{
 "cells": [
  {
   "cell_type": "markdown",
   "id": "abcd3b82-1587-4c1d-98a5-6f433d93e93d",
   "metadata": {},
   "source": [
    "<h1>ACTIVITY 1 - PALMER PENGUINS DATA ANALYTICS PROJECT</h1>\n",
    "<h3>Analyst: Kyla Caliwan</h3>"
   ]
  },
  {
   "cell_type": "code",
   "execution_count": null,
   "id": "8bb40c86-48ce-4f2f-b3ed-1f5117c4cfee",
   "metadata": {},
   "outputs": [],
   "source": [
    "#import libraries\n",
    "import numpy as np\n",
    "import pandas as pd\n",
    "import warnings\n",
    "warnings.filterwarnings('ignore')\n",
    "from scipy import stats"
   ]
  },
  {
   "cell_type": "markdown",
   "id": "8691657b-9faa-4b25-9c12-35273bed49b0",
   "metadata": {},
   "source": [
    "<h2>Converting Dataset(s) into Dataframe</h2>"
   ]
  },
  {
   "cell_type": "code",
   "execution_count": null,
   "id": "6602a26d-e0e4-4811-940b-cd0d7d3a3bdf",
   "metadata": {},
   "outputs": [],
   "source": [
    "penguins = pd.read_csv('datasets//penguins.csv')"
   ]
  },
  {
   "cell_type": "code",
   "execution_count": 27,
   "id": "1463db5c-a4a2-4a97-8805-1b8f7039db60",
   "metadata": {},
   "outputs": [
    {
     "data": {
      "text/html": [
       "<div>\n",
       "<style scoped>\n",
       "    .dataframe tbody tr th:only-of-type {\n",
       "        vertical-align: middle;\n",
       "    }\n",
       "\n",
       "    .dataframe tbody tr th {\n",
       "        vertical-align: top;\n",
       "    }\n",
       "\n",
       "    .dataframe thead th {\n",
       "        text-align: right;\n",
       "    }\n",
       "</style>\n",
       "<table border=\"1\" class=\"dataframe\">\n",
       "  <thead>\n",
       "    <tr style=\"text-align: right;\">\n",
       "      <th></th>\n",
       "      <th>species</th>\n",
       "      <th>island</th>\n",
       "      <th>bill_length_mm</th>\n",
       "      <th>bill_depth_mm</th>\n",
       "      <th>flipper_length_mm</th>\n",
       "      <th>body_mass_g</th>\n",
       "      <th>sex</th>\n",
       "      <th>year</th>\n",
       "    </tr>\n",
       "  </thead>\n",
       "  <tbody>\n",
       "    <tr>\n",
       "      <th>0</th>\n",
       "      <td>Adelie</td>\n",
       "      <td>Torgersen</td>\n",
       "      <td>39.1</td>\n",
       "      <td>18.7</td>\n",
       "      <td>181.0</td>\n",
       "      <td>3750.0</td>\n",
       "      <td>male</td>\n",
       "      <td>2007</td>\n",
       "    </tr>\n",
       "    <tr>\n",
       "      <th>1</th>\n",
       "      <td>Adelie</td>\n",
       "      <td>Torgersen</td>\n",
       "      <td>39.5</td>\n",
       "      <td>17.4</td>\n",
       "      <td>186.0</td>\n",
       "      <td>3800.0</td>\n",
       "      <td>female</td>\n",
       "      <td>2007</td>\n",
       "    </tr>\n",
       "    <tr>\n",
       "      <th>2</th>\n",
       "      <td>Adelie</td>\n",
       "      <td>Torgersen</td>\n",
       "      <td>40.3</td>\n",
       "      <td>18.0</td>\n",
       "      <td>195.0</td>\n",
       "      <td>3250.0</td>\n",
       "      <td>female</td>\n",
       "      <td>2007</td>\n",
       "    </tr>\n",
       "    <tr>\n",
       "      <th>3</th>\n",
       "      <td>Adelie</td>\n",
       "      <td>Torgersen</td>\n",
       "      <td>NaN</td>\n",
       "      <td>NaN</td>\n",
       "      <td>NaN</td>\n",
       "      <td>NaN</td>\n",
       "      <td>NaN</td>\n",
       "      <td>2007</td>\n",
       "    </tr>\n",
       "    <tr>\n",
       "      <th>4</th>\n",
       "      <td>Adelie</td>\n",
       "      <td>Torgersen</td>\n",
       "      <td>36.7</td>\n",
       "      <td>19.3</td>\n",
       "      <td>193.0</td>\n",
       "      <td>3450.0</td>\n",
       "      <td>female</td>\n",
       "      <td>2007</td>\n",
       "    </tr>\n",
       "    <tr>\n",
       "      <th>...</th>\n",
       "      <td>...</td>\n",
       "      <td>...</td>\n",
       "      <td>...</td>\n",
       "      <td>...</td>\n",
       "      <td>...</td>\n",
       "      <td>...</td>\n",
       "      <td>...</td>\n",
       "      <td>...</td>\n",
       "    </tr>\n",
       "    <tr>\n",
       "      <th>339</th>\n",
       "      <td>Chinstrap</td>\n",
       "      <td>Dream</td>\n",
       "      <td>55.8</td>\n",
       "      <td>19.8</td>\n",
       "      <td>207.0</td>\n",
       "      <td>4000.0</td>\n",
       "      <td>male</td>\n",
       "      <td>2009</td>\n",
       "    </tr>\n",
       "    <tr>\n",
       "      <th>340</th>\n",
       "      <td>Chinstrap</td>\n",
       "      <td>Dream</td>\n",
       "      <td>43.5</td>\n",
       "      <td>18.1</td>\n",
       "      <td>202.0</td>\n",
       "      <td>3400.0</td>\n",
       "      <td>female</td>\n",
       "      <td>2009</td>\n",
       "    </tr>\n",
       "    <tr>\n",
       "      <th>341</th>\n",
       "      <td>Chinstrap</td>\n",
       "      <td>Dream</td>\n",
       "      <td>49.6</td>\n",
       "      <td>18.2</td>\n",
       "      <td>193.0</td>\n",
       "      <td>3775.0</td>\n",
       "      <td>male</td>\n",
       "      <td>2009</td>\n",
       "    </tr>\n",
       "    <tr>\n",
       "      <th>342</th>\n",
       "      <td>Chinstrap</td>\n",
       "      <td>Dream</td>\n",
       "      <td>50.8</td>\n",
       "      <td>19.0</td>\n",
       "      <td>210.0</td>\n",
       "      <td>4100.0</td>\n",
       "      <td>male</td>\n",
       "      <td>2009</td>\n",
       "    </tr>\n",
       "    <tr>\n",
       "      <th>343</th>\n",
       "      <td>Chinstrap</td>\n",
       "      <td>Dream</td>\n",
       "      <td>50.2</td>\n",
       "      <td>18.7</td>\n",
       "      <td>198.0</td>\n",
       "      <td>3775.0</td>\n",
       "      <td>female</td>\n",
       "      <td>2009</td>\n",
       "    </tr>\n",
       "  </tbody>\n",
       "</table>\n",
       "<p>344 rows × 8 columns</p>\n",
       "</div>"
      ],
      "text/plain": [
       "       species     island  bill_length_mm  bill_depth_mm  flipper_length_mm  \\\n",
       "0       Adelie  Torgersen            39.1           18.7              181.0   \n",
       "1       Adelie  Torgersen            39.5           17.4              186.0   \n",
       "2       Adelie  Torgersen            40.3           18.0              195.0   \n",
       "3       Adelie  Torgersen             NaN            NaN                NaN   \n",
       "4       Adelie  Torgersen            36.7           19.3              193.0   \n",
       "..         ...        ...             ...            ...                ...   \n",
       "339  Chinstrap      Dream            55.8           19.8              207.0   \n",
       "340  Chinstrap      Dream            43.5           18.1              202.0   \n",
       "341  Chinstrap      Dream            49.6           18.2              193.0   \n",
       "342  Chinstrap      Dream            50.8           19.0              210.0   \n",
       "343  Chinstrap      Dream            50.2           18.7              198.0   \n",
       "\n",
       "     body_mass_g     sex  year  \n",
       "0         3750.0    male  2007  \n",
       "1         3800.0  female  2007  \n",
       "2         3250.0  female  2007  \n",
       "3            NaN     NaN  2007  \n",
       "4         3450.0  female  2007  \n",
       "..           ...     ...   ...  \n",
       "339       4000.0    male  2009  \n",
       "340       3400.0  female  2009  \n",
       "341       3775.0    male  2009  \n",
       "342       4100.0    male  2009  \n",
       "343       3775.0  female  2009  \n",
       "\n",
       "[344 rows x 8 columns]"
      ]
     },
     "execution_count": 27,
     "metadata": {},
     "output_type": "execute_result"
    }
   ],
   "source": [
    "penguins"
   ]
  },
  {
   "cell_type": "code",
   "execution_count": 28,
   "id": "cda7fb58-d349-4790-a305-cd5c219028cb",
   "metadata": {},
   "outputs": [
    {
     "data": {
      "text/plain": [
       "species               0\n",
       "island                0\n",
       "bill_length_mm        2\n",
       "bill_depth_mm         2\n",
       "flipper_length_mm     2\n",
       "body_mass_g           2\n",
       "sex                  11\n",
       "year                  0\n",
       "dtype: int64"
      ]
     },
     "execution_count": 28,
     "metadata": {},
     "output_type": "execute_result"
    }
   ],
   "source": [
    "penguins.isnull().sum()"
   ]
  },
  {
   "cell_type": "code",
   "execution_count": 29,
   "id": "55da487f-3327-4254-be96-a4e8a54588a9",
   "metadata": {},
   "outputs": [
    {
     "data": {
      "text/plain": [
       "0         Adelie\n",
       "1         Adelie\n",
       "2         Adelie\n",
       "3         Adelie\n",
       "4         Adelie\n",
       "         ...    \n",
       "339    Chinstrap\n",
       "340    Chinstrap\n",
       "341    Chinstrap\n",
       "342    Chinstrap\n",
       "343    Chinstrap\n",
       "Name: species, Length: 344, dtype: object"
      ]
     },
     "execution_count": 29,
     "metadata": {},
     "output_type": "execute_result"
    }
   ],
   "source": [
    "penguins['species']"
   ]
  },
  {
   "cell_type": "code",
   "execution_count": 30,
   "id": "7f23439f-3091-4d2c-a38f-1c934aeaf3ab",
   "metadata": {},
   "outputs": [
    {
     "data": {
      "text/plain": [
       "species\n",
       "Adelie       152\n",
       "Gentoo       124\n",
       "Chinstrap     68\n",
       "Name: count, dtype: int64"
      ]
     },
     "execution_count": 30,
     "metadata": {},
     "output_type": "execute_result"
    }
   ],
   "source": [
    "penguins['species'].value_counts()"
   ]
  },
  {
   "cell_type": "code",
   "execution_count": 31,
   "id": "6d52e27a-8a20-4793-8818-d2f1bde6d9fc",
   "metadata": {},
   "outputs": [
    {
     "data": {
      "text/plain": [
       "sex\n",
       "male      168\n",
       "female    165\n",
       "Name: count, dtype: int64"
      ]
     },
     "execution_count": 31,
     "metadata": {},
     "output_type": "execute_result"
    }
   ],
   "source": [
    "penguins['sex'].value_counts()"
   ]
  },
  {
   "cell_type": "code",
   "execution_count": 32,
   "id": "adb5f9c9-ea83-4136-aef9-8b702f1aca0e",
   "metadata": {},
   "outputs": [],
   "source": [
    "penguins['mass_kg'] = np.round(penguins['body_mass_g']/1000,1)"
   ]
  },
  {
   "cell_type": "code",
   "execution_count": 33,
   "id": "006c7c57-7917-402e-b92e-320a7838c042",
   "metadata": {},
   "outputs": [
    {
     "data": {
      "text/html": [
       "<div>\n",
       "<style scoped>\n",
       "    .dataframe tbody tr th:only-of-type {\n",
       "        vertical-align: middle;\n",
       "    }\n",
       "\n",
       "    .dataframe tbody tr th {\n",
       "        vertical-align: top;\n",
       "    }\n",
       "\n",
       "    .dataframe thead th {\n",
       "        text-align: right;\n",
       "    }\n",
       "</style>\n",
       "<table border=\"1\" class=\"dataframe\">\n",
       "  <thead>\n",
       "    <tr style=\"text-align: right;\">\n",
       "      <th></th>\n",
       "      <th>species</th>\n",
       "      <th>island</th>\n",
       "      <th>bill_length_mm</th>\n",
       "      <th>bill_depth_mm</th>\n",
       "      <th>flipper_length_mm</th>\n",
       "      <th>body_mass_g</th>\n",
       "      <th>sex</th>\n",
       "      <th>year</th>\n",
       "      <th>mass_kg</th>\n",
       "    </tr>\n",
       "  </thead>\n",
       "  <tbody>\n",
       "    <tr>\n",
       "      <th>0</th>\n",
       "      <td>Adelie</td>\n",
       "      <td>Torgersen</td>\n",
       "      <td>39.1</td>\n",
       "      <td>18.7</td>\n",
       "      <td>181.0</td>\n",
       "      <td>3750.0</td>\n",
       "      <td>male</td>\n",
       "      <td>2007</td>\n",
       "      <td>3.8</td>\n",
       "    </tr>\n",
       "    <tr>\n",
       "      <th>1</th>\n",
       "      <td>Adelie</td>\n",
       "      <td>Torgersen</td>\n",
       "      <td>39.5</td>\n",
       "      <td>17.4</td>\n",
       "      <td>186.0</td>\n",
       "      <td>3800.0</td>\n",
       "      <td>female</td>\n",
       "      <td>2007</td>\n",
       "      <td>3.8</td>\n",
       "    </tr>\n",
       "    <tr>\n",
       "      <th>2</th>\n",
       "      <td>Adelie</td>\n",
       "      <td>Torgersen</td>\n",
       "      <td>40.3</td>\n",
       "      <td>18.0</td>\n",
       "      <td>195.0</td>\n",
       "      <td>3250.0</td>\n",
       "      <td>female</td>\n",
       "      <td>2007</td>\n",
       "      <td>3.2</td>\n",
       "    </tr>\n",
       "    <tr>\n",
       "      <th>3</th>\n",
       "      <td>Adelie</td>\n",
       "      <td>Torgersen</td>\n",
       "      <td>NaN</td>\n",
       "      <td>NaN</td>\n",
       "      <td>NaN</td>\n",
       "      <td>NaN</td>\n",
       "      <td>NaN</td>\n",
       "      <td>2007</td>\n",
       "      <td>NaN</td>\n",
       "    </tr>\n",
       "    <tr>\n",
       "      <th>4</th>\n",
       "      <td>Adelie</td>\n",
       "      <td>Torgersen</td>\n",
       "      <td>36.7</td>\n",
       "      <td>19.3</td>\n",
       "      <td>193.0</td>\n",
       "      <td>3450.0</td>\n",
       "      <td>female</td>\n",
       "      <td>2007</td>\n",
       "      <td>3.4</td>\n",
       "    </tr>\n",
       "    <tr>\n",
       "      <th>...</th>\n",
       "      <td>...</td>\n",
       "      <td>...</td>\n",
       "      <td>...</td>\n",
       "      <td>...</td>\n",
       "      <td>...</td>\n",
       "      <td>...</td>\n",
       "      <td>...</td>\n",
       "      <td>...</td>\n",
       "      <td>...</td>\n",
       "    </tr>\n",
       "    <tr>\n",
       "      <th>339</th>\n",
       "      <td>Chinstrap</td>\n",
       "      <td>Dream</td>\n",
       "      <td>55.8</td>\n",
       "      <td>19.8</td>\n",
       "      <td>207.0</td>\n",
       "      <td>4000.0</td>\n",
       "      <td>male</td>\n",
       "      <td>2009</td>\n",
       "      <td>4.0</td>\n",
       "    </tr>\n",
       "    <tr>\n",
       "      <th>340</th>\n",
       "      <td>Chinstrap</td>\n",
       "      <td>Dream</td>\n",
       "      <td>43.5</td>\n",
       "      <td>18.1</td>\n",
       "      <td>202.0</td>\n",
       "      <td>3400.0</td>\n",
       "      <td>female</td>\n",
       "      <td>2009</td>\n",
       "      <td>3.4</td>\n",
       "    </tr>\n",
       "    <tr>\n",
       "      <th>341</th>\n",
       "      <td>Chinstrap</td>\n",
       "      <td>Dream</td>\n",
       "      <td>49.6</td>\n",
       "      <td>18.2</td>\n",
       "      <td>193.0</td>\n",
       "      <td>3775.0</td>\n",
       "      <td>male</td>\n",
       "      <td>2009</td>\n",
       "      <td>3.8</td>\n",
       "    </tr>\n",
       "    <tr>\n",
       "      <th>342</th>\n",
       "      <td>Chinstrap</td>\n",
       "      <td>Dream</td>\n",
       "      <td>50.8</td>\n",
       "      <td>19.0</td>\n",
       "      <td>210.0</td>\n",
       "      <td>4100.0</td>\n",
       "      <td>male</td>\n",
       "      <td>2009</td>\n",
       "      <td>4.1</td>\n",
       "    </tr>\n",
       "    <tr>\n",
       "      <th>343</th>\n",
       "      <td>Chinstrap</td>\n",
       "      <td>Dream</td>\n",
       "      <td>50.2</td>\n",
       "      <td>18.7</td>\n",
       "      <td>198.0</td>\n",
       "      <td>3775.0</td>\n",
       "      <td>female</td>\n",
       "      <td>2009</td>\n",
       "      <td>3.8</td>\n",
       "    </tr>\n",
       "  </tbody>\n",
       "</table>\n",
       "<p>344 rows × 9 columns</p>\n",
       "</div>"
      ],
      "text/plain": [
       "       species     island  bill_length_mm  bill_depth_mm  flipper_length_mm  \\\n",
       "0       Adelie  Torgersen            39.1           18.7              181.0   \n",
       "1       Adelie  Torgersen            39.5           17.4              186.0   \n",
       "2       Adelie  Torgersen            40.3           18.0              195.0   \n",
       "3       Adelie  Torgersen             NaN            NaN                NaN   \n",
       "4       Adelie  Torgersen            36.7           19.3              193.0   \n",
       "..         ...        ...             ...            ...                ...   \n",
       "339  Chinstrap      Dream            55.8           19.8              207.0   \n",
       "340  Chinstrap      Dream            43.5           18.1              202.0   \n",
       "341  Chinstrap      Dream            49.6           18.2              193.0   \n",
       "342  Chinstrap      Dream            50.8           19.0              210.0   \n",
       "343  Chinstrap      Dream            50.2           18.7              198.0   \n",
       "\n",
       "     body_mass_g     sex  year  mass_kg  \n",
       "0         3750.0    male  2007      3.8  \n",
       "1         3800.0  female  2007      3.8  \n",
       "2         3250.0  female  2007      3.2  \n",
       "3            NaN     NaN  2007      NaN  \n",
       "4         3450.0  female  2007      3.4  \n",
       "..           ...     ...   ...      ...  \n",
       "339       4000.0    male  2009      4.0  \n",
       "340       3400.0  female  2009      3.4  \n",
       "341       3775.0    male  2009      3.8  \n",
       "342       4100.0    male  2009      4.1  \n",
       "343       3775.0  female  2009      3.8  \n",
       "\n",
       "[344 rows x 9 columns]"
      ]
     },
     "execution_count": 33,
     "metadata": {},
     "output_type": "execute_result"
    }
   ],
   "source": [
    "penguins"
   ]
  },
  {
   "cell_type": "markdown",
   "id": "22eaf95b-f9ad-4670-aabf-12dca670ed9f",
   "metadata": {},
   "source": [
    "<h1>Exploratory Data Analysis (EDA)</h1>\n",
    "<hr>\n",
    "<h2>Question No.1</h2>\n",
    "<h3> What is the most common sex among Gentoo penguins?</h3>"
   ]
  },
  {
   "cell_type": "code",
   "execution_count": 34,
   "id": "4a1224a2-a25f-4860-9e9b-f86c5d366304",
   "metadata": {},
   "outputs": [
    {
     "data": {
      "text/plain": [
       "152    female\n",
       "153      male\n",
       "154    female\n",
       "155      male\n",
       "156      male\n",
       "        ...  \n",
       "271       NaN\n",
       "272    female\n",
       "273      male\n",
       "274    female\n",
       "275      male\n",
       "Name: sex, Length: 124, dtype: object"
      ]
     },
     "execution_count": 34,
     "metadata": {},
     "output_type": "execute_result"
    }
   ],
   "source": [
    "penguins[penguins['species'] == 'Gentoo']['sex']"
   ]
  },
  {
   "cell_type": "code",
   "execution_count": 35,
   "id": "ef7e5fbc-ec13-49c4-9cc9-9408621d7ffa",
   "metadata": {},
   "outputs": [
    {
     "data": {
      "text/plain": [
       "'male'"
      ]
     },
     "execution_count": 35,
     "metadata": {},
     "output_type": "execute_result"
    }
   ],
   "source": [
    "penguins[penguins['species'] == 'Gentoo']['sex'].mode()[0]"
   ]
  },
  {
   "cell_type": "markdown",
   "id": "88a4c9ff-21fa-404c-8ae8-72131a75505e",
   "metadata": {},
   "source": [
    "<h3>Insight: The most common sex among Gentoo penguins is male.</h3>"
   ]
  },
  {
   "cell_type": "markdown",
   "id": "fb0c1a16-846c-43b3-a83a-58e030c3e411",
   "metadata": {},
   "source": [
    "<h2>Question No.2</h2>\n",
    "<h3> Which island has the largest average flipper length?</h3>"
   ]
  },
  {
   "cell_type": "code",
   "execution_count": 36,
   "id": "fc7f7842-6334-4631-b958-f1520e81d084",
   "metadata": {},
   "outputs": [
    {
     "data": {
      "text/plain": [
       "island\n",
       "Biscoe       209.706587\n",
       "Dream        193.072581\n",
       "Torgersen    191.196078\n",
       "Name: flipper_length_mm, dtype: float64"
      ]
     },
     "execution_count": 36,
     "metadata": {},
     "output_type": "execute_result"
    }
   ],
   "source": [
    "penguins.groupby('island')['flipper_length_mm'].mean()"
   ]
  },
  {
   "cell_type": "markdown",
   "id": "ca1b241f-6fc6-4d2c-84ec-3cd767942437",
   "metadata": {},
   "source": [
    "<h3>Insight: The island with the largest average flipper length is Biscoe, who got 209.706587.</h3>"
   ]
  },
  {
   "cell_type": "markdown",
   "id": "cda20a52-311a-411d-9bd2-660e0b3f27c6",
   "metadata": {},
   "source": [
    "<h2>Question No.3</h2>\n",
    "<h3> How many penguins are not from 'Biscoe' island?</h3>"
   ]
  },
  {
   "cell_type": "code",
   "execution_count": 37,
   "id": "c691b426-aa3d-4a19-9efe-d578d3f9f0f0",
   "metadata": {},
   "outputs": [
    {
     "data": {
      "text/plain": [
       "0      True\n",
       "1      True\n",
       "2      True\n",
       "3      True\n",
       "4      True\n",
       "       ... \n",
       "339    True\n",
       "340    True\n",
       "341    True\n",
       "342    True\n",
       "343    True\n",
       "Name: island, Length: 344, dtype: bool"
      ]
     },
     "execution_count": 37,
     "metadata": {},
     "output_type": "execute_result"
    }
   ],
   "source": [
    "(penguins['island'] != 'Biscoe')"
   ]
  },
  {
   "cell_type": "code",
   "execution_count": 38,
   "id": "c5d56cd4-0e38-419e-86bb-96b2c6d75208",
   "metadata": {},
   "outputs": [
    {
     "data": {
      "text/plain": [
       "np.int64(176)"
      ]
     },
     "execution_count": 38,
     "metadata": {},
     "output_type": "execute_result"
    }
   ],
   "source": [
    "(penguins['island'] != 'Biscoe').sum()"
   ]
  },
  {
   "cell_type": "markdown",
   "id": "87d6e3f2-7a0a-4981-85fb-591bda5b4591",
   "metadata": {},
   "source": [
    "<h3>Insight: There are 176 penguins not from Biscoe island.</h3>"
   ]
  },
  {
   "cell_type": "markdown",
   "id": "c5c97131-8563-4e05-bd2b-7e5b8489fea4",
   "metadata": {},
   "source": [
    "<h2>Question No.4</h2>\n",
    "<h3>Which species has the lowest body mass? </h3>"
   ]
  },
  {
   "cell_type": "code",
   "execution_count": 39,
   "id": "108125a2-1a4d-4b4d-8787-315e9c88def5",
   "metadata": {},
   "outputs": [
    {
     "data": {
      "text/plain": [
       "np.float64(2700.0)"
      ]
     },
     "execution_count": 39,
     "metadata": {},
     "output_type": "execute_result"
    }
   ],
   "source": [
    "penguins['body_mass_g'].min()"
   ]
  },
  {
   "cell_type": "code",
   "execution_count": 40,
   "id": "38bb63df-456f-418b-b826-f3126fc33223",
   "metadata": {},
   "outputs": [
    {
     "data": {
      "text/html": [
       "<div>\n",
       "<style scoped>\n",
       "    .dataframe tbody tr th:only-of-type {\n",
       "        vertical-align: middle;\n",
       "    }\n",
       "\n",
       "    .dataframe tbody tr th {\n",
       "        vertical-align: top;\n",
       "    }\n",
       "\n",
       "    .dataframe thead th {\n",
       "        text-align: right;\n",
       "    }\n",
       "</style>\n",
       "<table border=\"1\" class=\"dataframe\">\n",
       "  <thead>\n",
       "    <tr style=\"text-align: right;\">\n",
       "      <th></th>\n",
       "      <th>species</th>\n",
       "      <th>island</th>\n",
       "      <th>bill_length_mm</th>\n",
       "      <th>bill_depth_mm</th>\n",
       "      <th>flipper_length_mm</th>\n",
       "      <th>body_mass_g</th>\n",
       "      <th>sex</th>\n",
       "      <th>year</th>\n",
       "      <th>mass_kg</th>\n",
       "    </tr>\n",
       "  </thead>\n",
       "  <tbody>\n",
       "    <tr>\n",
       "      <th>314</th>\n",
       "      <td>Chinstrap</td>\n",
       "      <td>Dream</td>\n",
       "      <td>46.9</td>\n",
       "      <td>16.6</td>\n",
       "      <td>192.0</td>\n",
       "      <td>2700.0</td>\n",
       "      <td>female</td>\n",
       "      <td>2008</td>\n",
       "      <td>2.7</td>\n",
       "    </tr>\n",
       "  </tbody>\n",
       "</table>\n",
       "</div>"
      ],
      "text/plain": [
       "       species island  bill_length_mm  bill_depth_mm  flipper_length_mm  \\\n",
       "314  Chinstrap  Dream            46.9           16.6              192.0   \n",
       "\n",
       "     body_mass_g     sex  year  mass_kg  \n",
       "314       2700.0  female  2008      2.7  "
      ]
     },
     "execution_count": 40,
     "metadata": {},
     "output_type": "execute_result"
    }
   ],
   "source": [
    "penguins[penguins['body_mass_g']== 2700.0]"
   ]
  },
  {
   "cell_type": "markdown",
   "id": "f0a5b9ec-b1ac-4ca1-8fc7-5d6c632ac05a",
   "metadata": {},
   "source": [
    "<h3>Insight : The species with the lowest average body mass is Chinstrap.</h3>"
   ]
  },
  {
   "cell_type": "markdown",
   "id": "289bdc2a-af1b-41fb-8465-f0eba1d38ea5",
   "metadata": {},
   "source": [
    "<h2>Question No.5</h2>\n",
    "<h3>What is the maximum bill length for penguins from the 'Dream' island?</h3>"
   ]
  },
  {
   "cell_type": "code",
   "execution_count": 41,
   "id": "f0a38072-bc8a-46c0-978d-40ce3dc08ecb",
   "metadata": {},
   "outputs": [
    {
     "data": {
      "text/plain": [
       "np.float64(58.0)"
      ]
     },
     "execution_count": 41,
     "metadata": {},
     "output_type": "execute_result"
    }
   ],
   "source": [
    "penguins[penguins['island'] == 'Dream']['bill_length_mm'].max()"
   ]
  },
  {
   "cell_type": "code",
   "execution_count": 42,
   "id": "3662f8d7-a01c-4421-a231-8946a026a979",
   "metadata": {},
   "outputs": [
    {
     "data": {
      "text/html": [
       "<div>\n",
       "<style scoped>\n",
       "    .dataframe tbody tr th:only-of-type {\n",
       "        vertical-align: middle;\n",
       "    }\n",
       "\n",
       "    .dataframe tbody tr th {\n",
       "        vertical-align: top;\n",
       "    }\n",
       "\n",
       "    .dataframe thead th {\n",
       "        text-align: right;\n",
       "    }\n",
       "</style>\n",
       "<table border=\"1\" class=\"dataframe\">\n",
       "  <thead>\n",
       "    <tr style=\"text-align: right;\">\n",
       "      <th></th>\n",
       "      <th>species</th>\n",
       "      <th>island</th>\n",
       "      <th>bill_length_mm</th>\n",
       "      <th>bill_depth_mm</th>\n",
       "      <th>flipper_length_mm</th>\n",
       "      <th>body_mass_g</th>\n",
       "      <th>sex</th>\n",
       "      <th>year</th>\n",
       "      <th>mass_kg</th>\n",
       "    </tr>\n",
       "  </thead>\n",
       "  <tbody>\n",
       "    <tr>\n",
       "      <th>293</th>\n",
       "      <td>Chinstrap</td>\n",
       "      <td>Dream</td>\n",
       "      <td>58.0</td>\n",
       "      <td>17.8</td>\n",
       "      <td>181.0</td>\n",
       "      <td>3700.0</td>\n",
       "      <td>female</td>\n",
       "      <td>2007</td>\n",
       "      <td>3.7</td>\n",
       "    </tr>\n",
       "  </tbody>\n",
       "</table>\n",
       "</div>"
      ],
      "text/plain": [
       "       species island  bill_length_mm  bill_depth_mm  flipper_length_mm  \\\n",
       "293  Chinstrap  Dream            58.0           17.8              181.0   \n",
       "\n",
       "     body_mass_g     sex  year  mass_kg  \n",
       "293       3700.0  female  2007      3.7  "
      ]
     },
     "execution_count": 42,
     "metadata": {},
     "output_type": "execute_result"
    }
   ],
   "source": [
    "penguins[penguins['bill_length_mm']== 58.0]"
   ]
  },
  {
   "cell_type": "markdown",
   "id": "79c6d646-5fe1-4212-bbb4-8c2494d747ae",
   "metadata": {},
   "source": [
    "<h3>Insight: The maximum bill length for penguins from Dream island is 58.0 mm, recorded from a Chinstrap penguin.</h3>"
   ]
  },
  {
   "cell_type": "markdown",
   "id": "45942161-f901-48e4-95f2-4f146d53ba44",
   "metadata": {},
   "source": [
    "<h2>Question No.6</h2>\n",
    "<h3>Which species has the most males?</h3>"
   ]
  },
  {
   "cell_type": "code",
   "execution_count": 43,
   "id": "0867d933-2523-4d92-9ae1-3fbf600aec90",
   "metadata": {},
   "outputs": [
    {
     "data": {
      "text/plain": [
       "species\n",
       "Adelie       73\n",
       "Gentoo       61\n",
       "Chinstrap    34\n",
       "Name: count, dtype: int64"
      ]
     },
     "execution_count": 43,
     "metadata": {},
     "output_type": "execute_result"
    }
   ],
   "source": [
    "penguins[penguins['sex'] == 'male']['species'].value_counts()"
   ]
  },
  {
   "cell_type": "code",
   "execution_count": 44,
   "id": "1a927b64-83b4-4d13-99a2-0a613dee4c70",
   "metadata": {},
   "outputs": [
    {
     "data": {
      "text/plain": [
       "'Adelie'"
      ]
     },
     "execution_count": 44,
     "metadata": {},
     "output_type": "execute_result"
    }
   ],
   "source": [
    "penguins[penguins['sex'] == 'male']['species'].mode()[0]"
   ]
  },
  {
   "cell_type": "markdown",
   "id": "e8996ced-bdfe-4791-b3f9-12eede0c4162",
   "metadata": {},
   "source": [
    "<h3>Insight: The species with the most males is Adelie, with 73 recorded</h3>"
   ]
  },
  {
   "cell_type": "markdown",
   "id": "b2ec0211-b509-4b32-84e5-8209fed63c33",
   "metadata": {},
   "source": [
    "<h2>Question No.7</h2>\n",
    "<h3>Which sex has the highest average bill length among Adelie penguins?</h3>"
   ]
  },
  {
   "cell_type": "code",
   "execution_count": 45,
   "id": "0399d38b-3e9b-40ad-a941-71d1f5379749",
   "metadata": {},
   "outputs": [
    {
     "data": {
      "text/plain": [
       "sex\n",
       "female    37.257534\n",
       "male      40.390411\n",
       "Name: bill_length_mm, dtype: float64"
      ]
     },
     "execution_count": 45,
     "metadata": {},
     "output_type": "execute_result"
    }
   ],
   "source": [
    "penguins[penguins['species'] == 'Adelie'].groupby('sex')['bill_length_mm'].mean()"
   ]
  },
  {
   "cell_type": "markdown",
   "id": "c68d2189-1b01-49f9-aa07-35ff0b7d9073",
   "metadata": {},
   "source": [
    "<h3>Insight: Among Adelie penguins, males have the highest average bill length.</h3>"
   ]
  },
  {
   "cell_type": "markdown",
   "id": "000bc311-f556-4058-9514-d11cc7df4c4b",
   "metadata": {},
   "source": [
    "<h2>Question No.8</h2>\n",
    "<h3>What percentage of penguins in the dataset are male vs female?</h3>"
   ]
  },
  {
   "cell_type": "code",
   "execution_count": 50,
   "id": "f39fad24-b0ca-4c09-a5e0-b4daa9095aa1",
   "metadata": {},
   "outputs": [
    {
     "data": {
      "text/plain": [
       "sex\n",
       "male      50.45\n",
       "female    49.55\n",
       "Name: proportion, dtype: float64"
      ]
     },
     "execution_count": 50,
     "metadata": {},
     "output_type": "execute_result"
    }
   ],
   "source": [
    "(penguins[\"sex\"].value_counts(normalize=True) * 100).round(2)"
   ]
  },
  {
   "cell_type": "markdown",
   "id": "7b9d8f66-54e3-49d8-b15d-2fa942f10a24",
   "metadata": {},
   "source": [
    "<h3>Insight: The highest percentage distribution of penguins in dataset is male penguins that got 50.45%</h3>"
   ]
  },
  {
   "cell_type": "markdown",
   "id": "f1256ecc-1acc-4252-835d-f14029b9e6da",
   "metadata": {},
   "source": [
    "<h2>Question No.9</h2>\n",
    "<h3>How many penguins there are per species.</h3>"
   ]
  },
  {
   "cell_type": "code",
   "execution_count": 55,
   "id": "15c921f2-f3e1-46b5-8df3-54faec9f9e21",
   "metadata": {},
   "outputs": [
    {
     "data": {
      "text/plain": [
       "species\n",
       "Adelie       152\n",
       "Chinstrap     68\n",
       "Gentoo       124\n",
       "dtype: int64"
      ]
     },
     "execution_count": 55,
     "metadata": {},
     "output_type": "execute_result"
    }
   ],
   "source": [
    "penguins.groupby(\"species\").size()\n"
   ]
  },
  {
   "cell_type": "markdown",
   "id": "eb40d36f-d17b-4eb7-b43a-9f21a995ffb1",
   "metadata": {},
   "source": [
    "<h3>Insight: The highest most populated species of penguins are Adelie with a count of 152</h3>"
   ]
  },
  {
   "cell_type": "markdown",
   "id": "920af43b-75b2-4ca2-bac1-5135a0dd9b32",
   "metadata": {},
   "source": [
    "<h2>Question No.10</h2>\n",
    "<h3>Which species has the smallest average bill depth?</h3>"
   ]
  },
  {
   "cell_type": "code",
   "execution_count": 28,
   "id": "6abf9b06-619c-46c3-a51e-9b1f733a0123",
   "metadata": {},
   "outputs": [
    {
     "data": {
      "text/plain": [
       "'Gentoo'"
      ]
     },
     "execution_count": 28,
     "metadata": {},
     "output_type": "execute_result"
    }
   ],
   "source": [
    "penguins.groupby(\"species\")[\"bill_depth_mm\"].mean().idxmin()\n"
   ]
  },
  {
   "cell_type": "markdown",
   "id": "3101cebf-e5a6-45b0-8da6-1a7a9e6da582",
   "metadata": {},
   "source": [
    "<h3>Insights: The species that has smallest bill depth was \"Gento\"</h3>"
   ]
  },
  {
   "cell_type": "markdown",
   "id": "174c109d-e010-4c60-8fc2-45df60acd94e",
   "metadata": {},
   "source": [
    "<h2>Question No.11</h2>\n",
    "<h3>For each species, is there a correlation between bill length and flipper length?</h3>"
   ]
  },
  {
   "cell_type": "code",
   "execution_count": 31,
   "id": "53d156c5-78ce-4901-b66e-f25c8e0a08dd",
   "metadata": {},
   "outputs": [
    {
     "data": {
      "text/plain": [
       "species\n",
       "Adelie       0.325785\n",
       "Chinstrap    0.471607\n",
       "Gentoo       0.661162\n",
       "dtype: float64"
      ]
     },
     "execution_count": 31,
     "metadata": {},
     "output_type": "execute_result"
    }
   ],
   "source": [
    "penguins.groupby(\"species\").apply(lambda g: g[\"bill_length_mm\"].corr(g[\"flipper_length_mm\"]))\n"
   ]
  },
  {
   "cell_type": "markdown",
   "id": "febc06bf-4325-41ac-8459-4ec91ece0b38",
   "metadata": {},
   "source": [
    "<h3>Insights: Yes, there is a correlation for all species, especially for Gentoo penguins but its weakest for Adelie penguins.</h3>"
   ]
  },
  {
   "cell_type": "markdown",
   "id": "5cc3eb72-3684-4562-834d-361f524f0b91",
   "metadata": {},
   "source": [
    "<h2>Question No.12</h2>\n",
    "<h3>For each island, is there a correlation between flipper length and body mass?</h3>"
   ]
  },
  {
   "cell_type": "code",
   "execution_count": 33,
   "id": "e039454b-d21e-4460-a2c2-8f3d7a7c2208",
   "metadata": {},
   "outputs": [
    {
     "data": {
      "text/plain": [
       "island\n",
       "Biscoe       0.876943\n",
       "Dream        0.525064\n",
       "Torgersen    0.435911\n",
       "dtype: float64"
      ]
     },
     "execution_count": 33,
     "metadata": {},
     "output_type": "execute_result"
    }
   ],
   "source": [
    "penguins.groupby(\"island\").apply(lambda g: g[\"flipper_length_mm\"].corr(g[\"body_mass_g\"]))\n"
   ]
  },
  {
   "cell_type": "markdown",
   "id": "c3288b21-d5d9-40b8-abf1-a7b266b565fb",
   "metadata": {},
   "source": [
    "<h3>Insights: Yes, there is a correlation on all islands, but it’s extremely strong for Biscoe and weaker for Dream and Torgersen.</h3>"
   ]
  },
  {
   "cell_type": "markdown",
   "id": "c75db07c-cd60-4567-a62a-3d975bca2d22",
   "metadata": {},
   "source": [
    "<h2>Question No.13</h2>\n",
    "<h3>For each sex, is there correlation between bill depth and body mass?</h3>"
   ]
  },
  {
   "cell_type": "code",
   "execution_count": 35,
   "id": "5c0ca085-1098-49b5-b8c4-b82b76597498",
   "metadata": {},
   "outputs": [
    {
     "data": {
      "text/plain": [
       "sex\n",
       "female   -0.747770\n",
       "male     -0.755492\n",
       "dtype: float64"
      ]
     },
     "execution_count": 35,
     "metadata": {},
     "output_type": "execute_result"
    }
   ],
   "source": [
    "penguins.groupby(\"sex\").apply(lambda g: g[\"bill_depth_mm\"].corr(g[\"body_mass_g\"]))\n"
   ]
  },
  {
   "cell_type": "markdown",
   "id": "5ec0b248-add0-44c3-898e-0108444ffd85",
   "metadata": {
    "jp-MarkdownHeadingCollapsed": true
   },
   "source": [
    "<h3>Insights: Yes, there is a strong negative correlation for both sexes. Penguins who has the deeper bills tend to be lighter, and penguins with shallower bills tend to be heavier regardless of their sex.</h3>"
   ]
  },
  {
   "cell_type": "code",
   "execution_count": 34,
   "id": "423ff730-4d31-4bfa-9907-1fd32de69efa",
   "metadata": {},
   "outputs": [
    {
     "data": {
      "text/plain": [
       "sex\n",
       "female   -0.747770\n",
       "male     -0.755492\n",
       "dtype: float64"
      ]
     },
     "execution_count": 34,
     "metadata": {},
     "output_type": "execute_result"
    }
   ],
   "source": [
    "penguins.groupby(\"sex\").apply(lambda g: g[\"bill_depth_mm\"].corr(g[\"body_mass_g\"]))\n"
   ]
  }
 ],
 "metadata": {
  "kernelspec": {
   "display_name": "Python 3 (ipykernel)",
   "language": "python",
   "name": "python3"
  },
  "language_info": {
   "codemirror_mode": {
    "name": "ipython",
    "version": 3
   },
   "file_extension": ".py",
   "mimetype": "text/x-python",
   "name": "python",
   "nbconvert_exporter": "python",
   "pygments_lexer": "ipython3",
   "version": "3.13.5"
  }
 },
 "nbformat": 4,
 "nbformat_minor": 5
}

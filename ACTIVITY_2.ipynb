{
 "cells": [
  {
   "cell_type": "markdown",
   "id": "69b6bfd3-dc7d-47c7-ad3f-11a2327f7c03",
   "metadata": {},
   "source": [
    "<h1>ACTIVITY 2 - UK ROAD ACCIDENT DATA ANALYTICS</h1>\n",
    "<h3>Analyst: Kyla Caliwan</h3>"
   ]
  },
  {
   "cell_type": "code",
   "execution_count": 1,
   "id": "287ec8a9-cb85-42b7-915c-17b7a4eb57af",
   "metadata": {},
   "outputs": [],
   "source": [
    "import numpy as np\n",
    "import pandas as pd\n",
    "import warnings\n",
    "warnings.filterwarnings('ignore')\n",
    "from scipy import stats"
   ]
  },
  {
   "cell_type": "markdown",
   "id": "94f6fa36-b437-4fa4-abef-f3252d9859fb",
   "metadata": {},
   "source": [
    "<h2>Converting Dataset(s) into Dataframe</h2>"
   ]
  },
  {
   "cell_type": "code",
   "execution_count": 2,
   "id": "b900d8ed-d575-4142-bfa8-b87cc486a771",
   "metadata": {},
   "outputs": [],
   "source": [
    "accident = pd.read_csv('datasets\\\\uk_road_accident.csv')"
   ]
  },
  {
   "cell_type": "code",
   "execution_count": 3,
   "id": "7b01537c-29e3-4cda-997d-69e45e1c1f17",
   "metadata": {},
   "outputs": [
    {
     "data": {
      "text/html": [
       "<div>\n",
       "<style scoped>\n",
       "    .dataframe tbody tr th:only-of-type {\n",
       "        vertical-align: middle;\n",
       "    }\n",
       "\n",
       "    .dataframe tbody tr th {\n",
       "        vertical-align: top;\n",
       "    }\n",
       "\n",
       "    .dataframe thead th {\n",
       "        text-align: right;\n",
       "    }\n",
       "</style>\n",
       "<table border=\"1\" class=\"dataframe\">\n",
       "  <thead>\n",
       "    <tr style=\"text-align: right;\">\n",
       "      <th></th>\n",
       "      <th>Index</th>\n",
       "      <th>Accident_Severity</th>\n",
       "      <th>Accident Date</th>\n",
       "      <th>Latitude</th>\n",
       "      <th>Light_Conditions</th>\n",
       "      <th>District Area</th>\n",
       "      <th>Longitude</th>\n",
       "      <th>Number_of_Casualties</th>\n",
       "      <th>Number_of_Vehicles</th>\n",
       "      <th>Road_Surface_Conditions</th>\n",
       "      <th>Road_Type</th>\n",
       "      <th>Urban_or_Rural_Area</th>\n",
       "      <th>Weather_Conditions</th>\n",
       "      <th>Vehicle_Type</th>\n",
       "    </tr>\n",
       "  </thead>\n",
       "  <tbody>\n",
       "    <tr>\n",
       "      <th>0</th>\n",
       "      <td>200701BS64157</td>\n",
       "      <td>Serious</td>\n",
       "      <td>5/6/2019</td>\n",
       "      <td>51.506187</td>\n",
       "      <td>Darkness - lights lit</td>\n",
       "      <td>Kensington and Chelsea</td>\n",
       "      <td>-0.209082</td>\n",
       "      <td>1</td>\n",
       "      <td>2</td>\n",
       "      <td>Dry</td>\n",
       "      <td>Single carriageway</td>\n",
       "      <td>Urban</td>\n",
       "      <td>Fine no high winds</td>\n",
       "      <td>Car</td>\n",
       "    </tr>\n",
       "    <tr>\n",
       "      <th>1</th>\n",
       "      <td>200701BS65737</td>\n",
       "      <td>Serious</td>\n",
       "      <td>2/7/2019</td>\n",
       "      <td>51.495029</td>\n",
       "      <td>Daylight</td>\n",
       "      <td>Kensington and Chelsea</td>\n",
       "      <td>-0.173647</td>\n",
       "      <td>1</td>\n",
       "      <td>2</td>\n",
       "      <td>Wet or damp</td>\n",
       "      <td>Single carriageway</td>\n",
       "      <td>Urban</td>\n",
       "      <td>Raining no high winds</td>\n",
       "      <td>Car</td>\n",
       "    </tr>\n",
       "    <tr>\n",
       "      <th>2</th>\n",
       "      <td>200701BS66127</td>\n",
       "      <td>Serious</td>\n",
       "      <td>26-08-2019</td>\n",
       "      <td>51.517715</td>\n",
       "      <td>Darkness - lighting unknown</td>\n",
       "      <td>Kensington and Chelsea</td>\n",
       "      <td>-0.210215</td>\n",
       "      <td>1</td>\n",
       "      <td>3</td>\n",
       "      <td>Dry</td>\n",
       "      <td>NaN</td>\n",
       "      <td>Urban</td>\n",
       "      <td>NaN</td>\n",
       "      <td>Taxi/Private hire car</td>\n",
       "    </tr>\n",
       "    <tr>\n",
       "      <th>3</th>\n",
       "      <td>200701BS66128</td>\n",
       "      <td>Serious</td>\n",
       "      <td>16-08-2019</td>\n",
       "      <td>51.495478</td>\n",
       "      <td>Daylight</td>\n",
       "      <td>Kensington and Chelsea</td>\n",
       "      <td>-0.202731</td>\n",
       "      <td>1</td>\n",
       "      <td>4</td>\n",
       "      <td>Dry</td>\n",
       "      <td>Single carriageway</td>\n",
       "      <td>Urban</td>\n",
       "      <td>Fine no high winds</td>\n",
       "      <td>Bus or coach (17 or more pass seats)</td>\n",
       "    </tr>\n",
       "    <tr>\n",
       "      <th>4</th>\n",
       "      <td>200701BS66837</td>\n",
       "      <td>Slight</td>\n",
       "      <td>3/9/2019</td>\n",
       "      <td>51.488576</td>\n",
       "      <td>Darkness - lights lit</td>\n",
       "      <td>Kensington and Chelsea</td>\n",
       "      <td>-0.192487</td>\n",
       "      <td>1</td>\n",
       "      <td>2</td>\n",
       "      <td>Dry</td>\n",
       "      <td>NaN</td>\n",
       "      <td>Urban</td>\n",
       "      <td>NaN</td>\n",
       "      <td>Other vehicle</td>\n",
       "    </tr>\n",
       "    <tr>\n",
       "      <th>...</th>\n",
       "      <td>...</td>\n",
       "      <td>...</td>\n",
       "      <td>...</td>\n",
       "      <td>...</td>\n",
       "      <td>...</td>\n",
       "      <td>...</td>\n",
       "      <td>...</td>\n",
       "      <td>...</td>\n",
       "      <td>...</td>\n",
       "      <td>...</td>\n",
       "      <td>...</td>\n",
       "      <td>...</td>\n",
       "      <td>...</td>\n",
       "      <td>...</td>\n",
       "    </tr>\n",
       "    <tr>\n",
       "      <th>660674</th>\n",
       "      <td>201091NM01760</td>\n",
       "      <td>Slight</td>\n",
       "      <td>18-02-2022</td>\n",
       "      <td>57.374005</td>\n",
       "      <td>Daylight</td>\n",
       "      <td>Highland</td>\n",
       "      <td>-3.467828</td>\n",
       "      <td>2</td>\n",
       "      <td>1</td>\n",
       "      <td>Dry</td>\n",
       "      <td>Single carriageway</td>\n",
       "      <td>Rural</td>\n",
       "      <td>Fine no high winds</td>\n",
       "      <td>Car</td>\n",
       "    </tr>\n",
       "    <tr>\n",
       "      <th>660675</th>\n",
       "      <td>201091NM01881</td>\n",
       "      <td>Slight</td>\n",
       "      <td>21-02-2022</td>\n",
       "      <td>57.232273</td>\n",
       "      <td>Darkness - no lighting</td>\n",
       "      <td>Highland</td>\n",
       "      <td>-3.809281</td>\n",
       "      <td>1</td>\n",
       "      <td>1</td>\n",
       "      <td>Frost or ice</td>\n",
       "      <td>Single carriageway</td>\n",
       "      <td>Rural</td>\n",
       "      <td>Fine no high winds</td>\n",
       "      <td>Car</td>\n",
       "    </tr>\n",
       "    <tr>\n",
       "      <th>660676</th>\n",
       "      <td>201091NM01935</td>\n",
       "      <td>Slight</td>\n",
       "      <td>23-02-2022</td>\n",
       "      <td>57.585044</td>\n",
       "      <td>Daylight</td>\n",
       "      <td>Highland</td>\n",
       "      <td>-3.862727</td>\n",
       "      <td>1</td>\n",
       "      <td>3</td>\n",
       "      <td>Frost or ice</td>\n",
       "      <td>Single carriageway</td>\n",
       "      <td>Rural</td>\n",
       "      <td>Fine no high winds</td>\n",
       "      <td>Car</td>\n",
       "    </tr>\n",
       "    <tr>\n",
       "      <th>660677</th>\n",
       "      <td>201091NM01964</td>\n",
       "      <td>Serious</td>\n",
       "      <td>23-02-2022</td>\n",
       "      <td>57.214898</td>\n",
       "      <td>Darkness - no lighting</td>\n",
       "      <td>Highland</td>\n",
       "      <td>-3.823997</td>\n",
       "      <td>1</td>\n",
       "      <td>2</td>\n",
       "      <td>Wet or damp</td>\n",
       "      <td>Single carriageway</td>\n",
       "      <td>Rural</td>\n",
       "      <td>Fine no high winds</td>\n",
       "      <td>Motorcycle over 500cc</td>\n",
       "    </tr>\n",
       "    <tr>\n",
       "      <th>660678</th>\n",
       "      <td>201091NM02142</td>\n",
       "      <td>Serious</td>\n",
       "      <td>28-02-2022</td>\n",
       "      <td>57.575210</td>\n",
       "      <td>Daylight</td>\n",
       "      <td>Highland</td>\n",
       "      <td>-3.895673</td>\n",
       "      <td>1</td>\n",
       "      <td>1</td>\n",
       "      <td>Wet or damp</td>\n",
       "      <td>Dual carriageway</td>\n",
       "      <td>Rural</td>\n",
       "      <td>Snowing no high winds</td>\n",
       "      <td>Car</td>\n",
       "    </tr>\n",
       "  </tbody>\n",
       "</table>\n",
       "<p>660679 rows × 14 columns</p>\n",
       "</div>"
      ],
      "text/plain": [
       "                Index Accident_Severity Accident Date   Latitude  \\\n",
       "0       200701BS64157           Serious      5/6/2019  51.506187   \n",
       "1       200701BS65737           Serious      2/7/2019  51.495029   \n",
       "2       200701BS66127           Serious    26-08-2019  51.517715   \n",
       "3       200701BS66128           Serious    16-08-2019  51.495478   \n",
       "4       200701BS66837            Slight      3/9/2019  51.488576   \n",
       "...               ...               ...           ...        ...   \n",
       "660674  201091NM01760            Slight    18-02-2022  57.374005   \n",
       "660675  201091NM01881            Slight    21-02-2022  57.232273   \n",
       "660676  201091NM01935            Slight    23-02-2022  57.585044   \n",
       "660677  201091NM01964           Serious    23-02-2022  57.214898   \n",
       "660678  201091NM02142           Serious    28-02-2022  57.575210   \n",
       "\n",
       "                   Light_Conditions           District Area  Longitude  \\\n",
       "0             Darkness - lights lit  Kensington and Chelsea  -0.209082   \n",
       "1                          Daylight  Kensington and Chelsea  -0.173647   \n",
       "2       Darkness - lighting unknown  Kensington and Chelsea  -0.210215   \n",
       "3                          Daylight  Kensington and Chelsea  -0.202731   \n",
       "4             Darkness - lights lit  Kensington and Chelsea  -0.192487   \n",
       "...                             ...                     ...        ...   \n",
       "660674                     Daylight                Highland  -3.467828   \n",
       "660675       Darkness - no lighting                Highland  -3.809281   \n",
       "660676                     Daylight                Highland  -3.862727   \n",
       "660677       Darkness - no lighting                Highland  -3.823997   \n",
       "660678                     Daylight                Highland  -3.895673   \n",
       "\n",
       "        Number_of_Casualties  Number_of_Vehicles Road_Surface_Conditions  \\\n",
       "0                          1                   2                     Dry   \n",
       "1                          1                   2             Wet or damp   \n",
       "2                          1                   3                     Dry   \n",
       "3                          1                   4                     Dry   \n",
       "4                          1                   2                     Dry   \n",
       "...                      ...                 ...                     ...   \n",
       "660674                     2                   1                     Dry   \n",
       "660675                     1                   1            Frost or ice   \n",
       "660676                     1                   3            Frost or ice   \n",
       "660677                     1                   2             Wet or damp   \n",
       "660678                     1                   1             Wet or damp   \n",
       "\n",
       "                 Road_Type Urban_or_Rural_Area     Weather_Conditions  \\\n",
       "0       Single carriageway               Urban     Fine no high winds   \n",
       "1       Single carriageway               Urban  Raining no high winds   \n",
       "2                      NaN               Urban                    NaN   \n",
       "3       Single carriageway               Urban     Fine no high winds   \n",
       "4                      NaN               Urban                    NaN   \n",
       "...                    ...                 ...                    ...   \n",
       "660674  Single carriageway               Rural     Fine no high winds   \n",
       "660675  Single carriageway               Rural     Fine no high winds   \n",
       "660676  Single carriageway               Rural     Fine no high winds   \n",
       "660677  Single carriageway               Rural     Fine no high winds   \n",
       "660678    Dual carriageway               Rural  Snowing no high winds   \n",
       "\n",
       "                                Vehicle_Type  \n",
       "0                                        Car  \n",
       "1                                        Car  \n",
       "2                      Taxi/Private hire car  \n",
       "3       Bus or coach (17 or more pass seats)  \n",
       "4                              Other vehicle  \n",
       "...                                      ...  \n",
       "660674                                   Car  \n",
       "660675                                   Car  \n",
       "660676                                   Car  \n",
       "660677                 Motorcycle over 500cc  \n",
       "660678                                   Car  \n",
       "\n",
       "[660679 rows x 14 columns]"
      ]
     },
     "execution_count": 3,
     "metadata": {},
     "output_type": "execute_result"
    }
   ],
   "source": [
    "accident"
   ]
  },
  {
   "cell_type": "code",
   "execution_count": 4,
   "id": "2ac93756-2599-4294-bce3-8ca7220850db",
   "metadata": {},
   "outputs": [
    {
     "data": {
      "text/html": [
       "<div>\n",
       "<style scoped>\n",
       "    .dataframe tbody tr th:only-of-type {\n",
       "        vertical-align: middle;\n",
       "    }\n",
       "\n",
       "    .dataframe tbody tr th {\n",
       "        vertical-align: top;\n",
       "    }\n",
       "\n",
       "    .dataframe thead th {\n",
       "        text-align: right;\n",
       "    }\n",
       "</style>\n",
       "<table border=\"1\" class=\"dataframe\">\n",
       "  <thead>\n",
       "    <tr style=\"text-align: right;\">\n",
       "      <th></th>\n",
       "      <th>Latitude</th>\n",
       "      <th>Longitude</th>\n",
       "      <th>Number_of_Casualties</th>\n",
       "      <th>Number_of_Vehicles</th>\n",
       "    </tr>\n",
       "  </thead>\n",
       "  <tbody>\n",
       "    <tr>\n",
       "      <th>count</th>\n",
       "      <td>660654.000000</td>\n",
       "      <td>660653.000000</td>\n",
       "      <td>660679.000000</td>\n",
       "      <td>660679.000000</td>\n",
       "    </tr>\n",
       "    <tr>\n",
       "      <th>mean</th>\n",
       "      <td>52.553866</td>\n",
       "      <td>-1.431210</td>\n",
       "      <td>1.357040</td>\n",
       "      <td>1.831255</td>\n",
       "    </tr>\n",
       "    <tr>\n",
       "      <th>std</th>\n",
       "      <td>1.406922</td>\n",
       "      <td>1.383330</td>\n",
       "      <td>0.824847</td>\n",
       "      <td>0.715269</td>\n",
       "    </tr>\n",
       "    <tr>\n",
       "      <th>min</th>\n",
       "      <td>49.914430</td>\n",
       "      <td>-7.516225</td>\n",
       "      <td>1.000000</td>\n",
       "      <td>1.000000</td>\n",
       "    </tr>\n",
       "    <tr>\n",
       "      <th>25%</th>\n",
       "      <td>51.490690</td>\n",
       "      <td>-2.332291</td>\n",
       "      <td>1.000000</td>\n",
       "      <td>1.000000</td>\n",
       "    </tr>\n",
       "    <tr>\n",
       "      <th>50%</th>\n",
       "      <td>52.315641</td>\n",
       "      <td>-1.411667</td>\n",
       "      <td>1.000000</td>\n",
       "      <td>2.000000</td>\n",
       "    </tr>\n",
       "    <tr>\n",
       "      <th>75%</th>\n",
       "      <td>53.453452</td>\n",
       "      <td>-0.232869</td>\n",
       "      <td>1.000000</td>\n",
       "      <td>2.000000</td>\n",
       "    </tr>\n",
       "    <tr>\n",
       "      <th>max</th>\n",
       "      <td>60.757544</td>\n",
       "      <td>1.762010</td>\n",
       "      <td>68.000000</td>\n",
       "      <td>32.000000</td>\n",
       "    </tr>\n",
       "  </tbody>\n",
       "</table>\n",
       "</div>"
      ],
      "text/plain": [
       "            Latitude      Longitude  Number_of_Casualties  Number_of_Vehicles\n",
       "count  660654.000000  660653.000000         660679.000000       660679.000000\n",
       "mean       52.553866      -1.431210              1.357040            1.831255\n",
       "std         1.406922       1.383330              0.824847            0.715269\n",
       "min        49.914430      -7.516225              1.000000            1.000000\n",
       "25%        51.490690      -2.332291              1.000000            1.000000\n",
       "50%        52.315641      -1.411667              1.000000            2.000000\n",
       "75%        53.453452      -0.232869              1.000000            2.000000\n",
       "max        60.757544       1.762010             68.000000           32.000000"
      ]
     },
     "execution_count": 4,
     "metadata": {},
     "output_type": "execute_result"
    }
   ],
   "source": [
    "accident.describe()"
   ]
  },
  {
   "cell_type": "code",
   "execution_count": 5,
   "id": "3d5b22f5-d59e-4e90-998a-b5b4ac161611",
   "metadata": {},
   "outputs": [
    {
     "name": "stdout",
     "output_type": "stream",
     "text": [
      "<class 'pandas.core.frame.DataFrame'>\n",
      "RangeIndex: 660679 entries, 0 to 660678\n",
      "Data columns (total 14 columns):\n",
      " #   Column                   Non-Null Count   Dtype  \n",
      "---  ------                   --------------   -----  \n",
      " 0   Index                    660679 non-null  object \n",
      " 1   Accident_Severity        660679 non-null  object \n",
      " 2   Accident Date            660679 non-null  object \n",
      " 3   Latitude                 660654 non-null  float64\n",
      " 4   Light_Conditions         660679 non-null  object \n",
      " 5   District Area            660679 non-null  object \n",
      " 6   Longitude                660653 non-null  float64\n",
      " 7   Number_of_Casualties     660679 non-null  int64  \n",
      " 8   Number_of_Vehicles       660679 non-null  int64  \n",
      " 9   Road_Surface_Conditions  659953 non-null  object \n",
      " 10  Road_Type                656159 non-null  object \n",
      " 11  Urban_or_Rural_Area      660664 non-null  object \n",
      " 12  Weather_Conditions       646551 non-null  object \n",
      " 13  Vehicle_Type             660679 non-null  object \n",
      "dtypes: float64(2), int64(2), object(10)\n",
      "memory usage: 70.6+ MB\n"
     ]
    }
   ],
   "source": [
    "accident.info()"
   ]
  },
  {
   "cell_type": "code",
   "execution_count": 6,
   "id": "63c61ac8-3a60-4fd3-b70c-46dbe9e2d26f",
   "metadata": {},
   "outputs": [
    {
     "data": {
      "text/plain": [
       "Index                          0\n",
       "Accident_Severity              0\n",
       "Accident Date                  0\n",
       "Latitude                      25\n",
       "Light_Conditions               0\n",
       "District Area                  0\n",
       "Longitude                     26\n",
       "Number_of_Casualties           0\n",
       "Number_of_Vehicles             0\n",
       "Road_Surface_Conditions      726\n",
       "Road_Type                   4520\n",
       "Urban_or_Rural_Area           15\n",
       "Weather_Conditions         14128\n",
       "Vehicle_Type                   0\n",
       "dtype: int64"
      ]
     },
     "execution_count": 6,
     "metadata": {},
     "output_type": "execute_result"
    }
   ],
   "source": [
    "accident.isnull().sum()"
   ]
  },
  {
   "cell_type": "code",
   "execution_count": 7,
   "id": "8e0a017a-af4a-4825-9fde-cf94c3844cbe",
   "metadata": {},
   "outputs": [],
   "source": [
    "accident['Latitude'] = accident['Latitude'].fillna(accident['Latitude'].mode()[0])\n",
    "accident['Longitude'] = accident['Longitude'].fillna(accident['Longitude'].mode()[0])\n",
    "accident['Road_Surface_Conditions'] = accident['Road_Surface_Conditions'].fillna(accident['Road_Surface_Conditions'].mode()[0])\n",
    "accident['Road_Type'] = accident['Road_Type'].fillna(accident['Road_Type'].mode()[0])\n",
    "accident['Urban_or_Rural_Area'] = accident['Urban_or_Rural_Area'].fillna(accident['Urban_or_Rural_Area'].mode()[0])\n",
    "accident['Weather_Conditions'] = accident['Weather_Conditions'].fillna(accident['Weather_Conditions'].mode()[0])"
   ]
  },
  {
   "cell_type": "code",
   "execution_count": 8,
   "id": "99efe319-1580-4aa7-8046-24719de575df",
   "metadata": {},
   "outputs": [
    {
     "data": {
      "text/plain": [
       "Index                      0\n",
       "Accident_Severity          0\n",
       "Accident Date              0\n",
       "Latitude                   0\n",
       "Light_Conditions           0\n",
       "District Area              0\n",
       "Longitude                  0\n",
       "Number_of_Casualties       0\n",
       "Number_of_Vehicles         0\n",
       "Road_Surface_Conditions    0\n",
       "Road_Type                  0\n",
       "Urban_or_Rural_Area        0\n",
       "Weather_Conditions         0\n",
       "Vehicle_Type               0\n",
       "dtype: int64"
      ]
     },
     "execution_count": 8,
     "metadata": {},
     "output_type": "execute_result"
    }
   ],
   "source": [
    "accident.isnull().sum()"
   ]
  },
  {
   "cell_type": "code",
   "execution_count": 9,
   "id": "c0185cfe-1a44-4ad7-a531-bd80820780ee",
   "metadata": {},
   "outputs": [
    {
     "data": {
      "text/plain": [
       "0         200701BS64157\n",
       "1         200701BS65737\n",
       "2         200701BS66127\n",
       "3         200701BS66128\n",
       "4         200701BS66837\n",
       "              ...      \n",
       "660674    201091NM01760\n",
       "660675    201091NM01881\n",
       "660676    201091NM01935\n",
       "660677    201091NM01964\n",
       "660678    201091NM02142\n",
       "Name: Index, Length: 660679, dtype: object"
      ]
     },
     "execution_count": 9,
     "metadata": {},
     "output_type": "execute_result"
    }
   ],
   "source": [
    "accident['Index']"
   ]
  },
  {
   "cell_type": "code",
   "execution_count": 10,
   "id": "6319d6c0-7aaf-4188-ada5-33b1a0aae395",
   "metadata": {},
   "outputs": [
    {
     "data": {
      "text/plain": [
       "0         Serious\n",
       "1         Serious\n",
       "2         Serious\n",
       "3         Serious\n",
       "4          Slight\n",
       "           ...   \n",
       "660674     Slight\n",
       "660675     Slight\n",
       "660676     Slight\n",
       "660677    Serious\n",
       "660678    Serious\n",
       "Name: Accident_Severity, Length: 660679, dtype: object"
      ]
     },
     "execution_count": 10,
     "metadata": {},
     "output_type": "execute_result"
    }
   ],
   "source": [
    "accident['Accident_Severity']"
   ]
  },
  {
   "cell_type": "code",
   "execution_count": 11,
   "id": "601ec500-a154-400c-bf9e-3032355991a1",
   "metadata": {},
   "outputs": [
    {
     "data": {
      "text/plain": [
       "0           5/6/2019\n",
       "1           2/7/2019\n",
       "2         26-08-2019\n",
       "3         16-08-2019\n",
       "4           3/9/2019\n",
       "             ...    \n",
       "660674    18-02-2022\n",
       "660675    21-02-2022\n",
       "660676    23-02-2022\n",
       "660677    23-02-2022\n",
       "660678    28-02-2022\n",
       "Name: Accident Date, Length: 660679, dtype: object"
      ]
     },
     "execution_count": 11,
     "metadata": {},
     "output_type": "execute_result"
    }
   ],
   "source": [
    "accident['Accident Date']"
   ]
  },
  {
   "cell_type": "code",
   "execution_count": 12,
   "id": "19de22b1-81e5-403b-8f1f-19713b516d2d",
   "metadata": {},
   "outputs": [
    {
     "data": {
      "text/plain": [
       "0         51.506187\n",
       "1         51.495029\n",
       "2         51.517715\n",
       "3         51.495478\n",
       "4         51.488576\n",
       "            ...    \n",
       "660674    57.374005\n",
       "660675    57.232273\n",
       "660676    57.585044\n",
       "660677    57.214898\n",
       "660678    57.575210\n",
       "Name: Latitude, Length: 660679, dtype: float64"
      ]
     },
     "execution_count": 12,
     "metadata": {},
     "output_type": "execute_result"
    }
   ],
   "source": [
    "accident['Latitude']"
   ]
  },
  {
   "cell_type": "code",
   "execution_count": 13,
   "id": "8b204d60-49b9-4e69-b230-4969376c7be0",
   "metadata": {},
   "outputs": [
    {
     "data": {
      "text/plain": [
       "0               Darkness - lights lit\n",
       "1                            Daylight\n",
       "2         Darkness - lighting unknown\n",
       "3                            Daylight\n",
       "4               Darkness - lights lit\n",
       "                     ...             \n",
       "660674                       Daylight\n",
       "660675         Darkness - no lighting\n",
       "660676                       Daylight\n",
       "660677         Darkness - no lighting\n",
       "660678                       Daylight\n",
       "Name: Light_Conditions, Length: 660679, dtype: object"
      ]
     },
     "execution_count": 13,
     "metadata": {},
     "output_type": "execute_result"
    }
   ],
   "source": [
    "accident['Light_Conditions']"
   ]
  },
  {
   "cell_type": "code",
   "execution_count": 14,
   "id": "b779a78c-a26b-4249-9ff5-c54ac0320ab8",
   "metadata": {},
   "outputs": [
    {
     "data": {
      "text/plain": [
       "0         Kensington and Chelsea\n",
       "1         Kensington and Chelsea\n",
       "2         Kensington and Chelsea\n",
       "3         Kensington and Chelsea\n",
       "4         Kensington and Chelsea\n",
       "                   ...          \n",
       "660674                  Highland\n",
       "660675                  Highland\n",
       "660676                  Highland\n",
       "660677                  Highland\n",
       "660678                  Highland\n",
       "Name: District Area, Length: 660679, dtype: object"
      ]
     },
     "execution_count": 14,
     "metadata": {},
     "output_type": "execute_result"
    }
   ],
   "source": [
    "accident['District Area']"
   ]
  },
  {
   "cell_type": "code",
   "execution_count": 15,
   "id": "f7720b5d-5ba1-4bf8-bd2d-9e5895232183",
   "metadata": {},
   "outputs": [
    {
     "data": {
      "text/plain": [
       "0        -0.209082\n",
       "1        -0.173647\n",
       "2        -0.210215\n",
       "3        -0.202731\n",
       "4        -0.192487\n",
       "            ...   \n",
       "660674   -3.467828\n",
       "660675   -3.809281\n",
       "660676   -3.862727\n",
       "660677   -3.823997\n",
       "660678   -3.895673\n",
       "Name: Longitude, Length: 660679, dtype: float64"
      ]
     },
     "execution_count": 15,
     "metadata": {},
     "output_type": "execute_result"
    }
   ],
   "source": [
    "accident['Longitude']"
   ]
  },
  {
   "cell_type": "code",
   "execution_count": 16,
   "id": "2ff33669-3a1d-403d-873f-c8e14791b72d",
   "metadata": {},
   "outputs": [
    {
     "data": {
      "text/plain": [
       "0         1\n",
       "1         1\n",
       "2         1\n",
       "3         1\n",
       "4         1\n",
       "         ..\n",
       "660674    2\n",
       "660675    1\n",
       "660676    1\n",
       "660677    1\n",
       "660678    1\n",
       "Name: Number_of_Casualties, Length: 660679, dtype: int64"
      ]
     },
     "execution_count": 16,
     "metadata": {},
     "output_type": "execute_result"
    }
   ],
   "source": [
    "accident['Number_of_Casualties']"
   ]
  },
  {
   "cell_type": "code",
   "execution_count": 17,
   "id": "71700492-6240-401b-a1c0-994a7b59dbb7",
   "metadata": {},
   "outputs": [
    {
     "data": {
      "text/plain": [
       "0         2\n",
       "1         2\n",
       "2         3\n",
       "3         4\n",
       "4         2\n",
       "         ..\n",
       "660674    1\n",
       "660675    1\n",
       "660676    3\n",
       "660677    2\n",
       "660678    1\n",
       "Name: Number_of_Vehicles, Length: 660679, dtype: int64"
      ]
     },
     "execution_count": 17,
     "metadata": {},
     "output_type": "execute_result"
    }
   ],
   "source": [
    "accident['Number_of_Vehicles']"
   ]
  },
  {
   "cell_type": "code",
   "execution_count": 18,
   "id": "2abba1d4-d7bc-40f4-ac5e-7c61e2827aab",
   "metadata": {},
   "outputs": [
    {
     "data": {
      "text/plain": [
       "0                  Dry\n",
       "1          Wet or damp\n",
       "2                  Dry\n",
       "3                  Dry\n",
       "4                  Dry\n",
       "              ...     \n",
       "660674             Dry\n",
       "660675    Frost or ice\n",
       "660676    Frost or ice\n",
       "660677     Wet or damp\n",
       "660678     Wet or damp\n",
       "Name: Road_Surface_Conditions, Length: 660679, dtype: object"
      ]
     },
     "execution_count": 18,
     "metadata": {},
     "output_type": "execute_result"
    }
   ],
   "source": [
    "accident['Road_Surface_Conditions']"
   ]
  },
  {
   "cell_type": "code",
   "execution_count": 19,
   "id": "e949e538-0812-4eaa-90cf-47778f5c6261",
   "metadata": {},
   "outputs": [
    {
     "data": {
      "text/plain": [
       "0         Single carriageway\n",
       "1         Single carriageway\n",
       "2         Single carriageway\n",
       "3         Single carriageway\n",
       "4         Single carriageway\n",
       "                 ...        \n",
       "660674    Single carriageway\n",
       "660675    Single carriageway\n",
       "660676    Single carriageway\n",
       "660677    Single carriageway\n",
       "660678      Dual carriageway\n",
       "Name: Road_Type, Length: 660679, dtype: object"
      ]
     },
     "execution_count": 19,
     "metadata": {},
     "output_type": "execute_result"
    }
   ],
   "source": [
    "accident['Road_Type']"
   ]
  },
  {
   "cell_type": "code",
   "execution_count": 20,
   "id": "d3580ae0-a7dc-454b-924a-fe73862bd2ff",
   "metadata": {},
   "outputs": [
    {
     "data": {
      "text/plain": [
       "0         Urban\n",
       "1         Urban\n",
       "2         Urban\n",
       "3         Urban\n",
       "4         Urban\n",
       "          ...  \n",
       "660674    Rural\n",
       "660675    Rural\n",
       "660676    Rural\n",
       "660677    Rural\n",
       "660678    Rural\n",
       "Name: Urban_or_Rural_Area, Length: 660679, dtype: object"
      ]
     },
     "execution_count": 20,
     "metadata": {},
     "output_type": "execute_result"
    }
   ],
   "source": [
    "accident['Urban_or_Rural_Area']"
   ]
  },
  {
   "cell_type": "code",
   "execution_count": 21,
   "id": "68fb9d8c-999d-4e8c-9a86-1d83a7b9faf8",
   "metadata": {},
   "outputs": [
    {
     "data": {
      "text/plain": [
       "0            Fine no high winds\n",
       "1         Raining no high winds\n",
       "2            Fine no high winds\n",
       "3            Fine no high winds\n",
       "4            Fine no high winds\n",
       "                  ...          \n",
       "660674       Fine no high winds\n",
       "660675       Fine no high winds\n",
       "660676       Fine no high winds\n",
       "660677       Fine no high winds\n",
       "660678    Snowing no high winds\n",
       "Name: Weather_Conditions, Length: 660679, dtype: object"
      ]
     },
     "execution_count": 21,
     "metadata": {},
     "output_type": "execute_result"
    }
   ],
   "source": [
    "accident['Weather_Conditions']"
   ]
  },
  {
   "cell_type": "code",
   "execution_count": 22,
   "id": "d64ba59d-15dc-4375-bfb9-047110ae397b",
   "metadata": {},
   "outputs": [
    {
     "data": {
      "text/plain": [
       "0                                          Car\n",
       "1                                          Car\n",
       "2                        Taxi/Private hire car\n",
       "3         Bus or coach (17 or more pass seats)\n",
       "4                                Other vehicle\n",
       "                          ...                 \n",
       "660674                                     Car\n",
       "660675                                     Car\n",
       "660676                                     Car\n",
       "660677                   Motorcycle over 500cc\n",
       "660678                                     Car\n",
       "Name: Vehicle_Type, Length: 660679, dtype: object"
      ]
     },
     "execution_count": 22,
     "metadata": {},
     "output_type": "execute_result"
    }
   ],
   "source": [
    "accident['Vehicle_Type']"
   ]
  },
  {
   "cell_type": "code",
   "execution_count": 23,
   "id": "348c8486-90a4-4dd1-af6d-f1fd4246c76a",
   "metadata": {},
   "outputs": [],
   "source": [
    "accident['Accident Date'] = accident['Accident Date'].str.strip()\n",
    "accident['Accident Date'] = accident['Accident Date'].astype('str')\n",
    "accident['Accident Date'] = accident['Accident Date'].str.replace('/','-')"
   ]
  },
  {
   "cell_type": "code",
   "execution_count": 24,
   "id": "87327546-ed0e-4f53-bafa-3fdc07ff2700",
   "metadata": {},
   "outputs": [],
   "source": [
    "accident['Accident Date'] = pd.to_datetime(accident['Accident Date'],dayfirst = True, errors = 'coerce')"
   ]
  },
  {
   "cell_type": "code",
   "execution_count": 25,
   "id": "b31b62f6-aadf-4d29-b98e-15b716d66157",
   "metadata": {},
   "outputs": [
    {
     "data": {
      "text/plain": [
       "Index                              object\n",
       "Accident_Severity                  object\n",
       "Accident Date              datetime64[ns]\n",
       "Latitude                          float64\n",
       "Light_Conditions                   object\n",
       "District Area                      object\n",
       "Longitude                         float64\n",
       "Number_of_Casualties                int64\n",
       "Number_of_Vehicles                  int64\n",
       "Road_Surface_Conditions            object\n",
       "Road_Type                          object\n",
       "Urban_or_Rural_Area                object\n",
       "Weather_Conditions                 object\n",
       "Vehicle_Type                       object\n",
       "dtype: object"
      ]
     },
     "execution_count": 25,
     "metadata": {},
     "output_type": "execute_result"
    }
   ],
   "source": [
    "accident.dtypes"
   ]
  },
  {
   "cell_type": "markdown",
   "id": "2a2b3f82-8877-489c-9f53-0fb25b9c20ba",
   "metadata": {},
   "source": [
    "<h2>Extracting date information using pandas date time</h2>"
   ]
  },
  {
   "cell_type": "code",
   "execution_count": 26,
   "id": "4c6e7629-0fd9-443b-8cfe-9a3bb4b9bd84",
   "metadata": {},
   "outputs": [],
   "source": [
    "accident['Year'] = accident['Accident Date'].dt.year\n",
    "accident['Month'] = accident['Accident Date'].dt.month\n",
    "accident['Day'] = accident['Accident Date'].dt.day\n",
    "accident['DayofWeek'] = accident['Accident Date'].dt.dayofweek"
   ]
  },
  {
   "cell_type": "markdown",
   "id": "8769d6de-f1ec-4bbe-b409-2df96c119ed2",
   "metadata": {},
   "source": [
    "<h1>Exploratory Data Analysis (EDA)</h1>\n",
    "<hr>\n",
    "<h2>Question No.1</h2>\n",
    "<h3> Which road type records the most accidents?</h3>"
   ]
  },
  {
   "cell_type": "code",
   "execution_count": 27,
   "id": "69e6de73-17c3-4614-8f77-6eac465adb21",
   "metadata": {},
   "outputs": [
    {
     "data": {
      "text/plain": [
       "Road_Type\n",
       "Single carriageway    496663\n",
       "Dual carriageway       99424\n",
       "Roundabout             43992\n",
       "One way street         13559\n",
       "Slip road               7041\n",
       "Name: count, dtype: int64"
      ]
     },
     "execution_count": 27,
     "metadata": {},
     "output_type": "execute_result"
    }
   ],
   "source": [
    "accident['Road_Type'].value_counts()"
   ]
  },
  {
   "cell_type": "markdown",
   "id": "c0bfd487-ab8b-4d1f-9c1e-ab1fa460ee9c",
   "metadata": {},
   "source": [
    "<h3>Insight: The Single carriageway records the highest number of accidents, with 492,143 incidents.</h3>"
   ]
  },
  {
   "cell_type": "markdown",
   "id": "9b3779cf-a5f2-4539-8b19-a05d2ece9040",
   "metadata": {},
   "source": [
    "<h2>Question No.2</h2>\n",
    "<h3> Are minibus more involved in serious accidents compared to cars?</h3>"
   ]
  },
  {
   "cell_type": "code",
   "execution_count": 28,
   "id": "7bc5dc77-848f-4f8c-9e47-72b3aa66e3b3",
   "metadata": {},
   "outputs": [
    {
     "data": {
      "text/plain": [
       "Vehicle_Type\n",
       "Car                                 66461\n",
       "Minibus (8 - 16 passenger seats)      276\n",
       "Name: count, dtype: int64"
      ]
     },
     "execution_count": 28,
     "metadata": {},
     "output_type": "execute_result"
    }
   ],
   "source": [
    "serious_accidents = accident[accident['Accident_Severity'] == 'Serious']\n",
    "\n",
    "vehicles = serious_accidents[(serious_accidents['Vehicle_Type'] == 'Car') | (serious_accidents['Vehicle_Type'] == 'Minibus (8 - 16 passenger seats)')]\n",
    "\n",
    "vehicles['Vehicle_Type'].value_counts()"
   ]
  },
  {
   "cell_type": "markdown",
   "id": "60fca216-6682-4590-a1ff-82fba4ea5c93",
   "metadata": {},
   "source": [
    "<h3>Insight: Minibuses have far fewer serious accidents than cars in total, but proportionally, a minibus crash is more likely to be serious compared to a car crash.\n",
    "</h3>"
   ]
  },
  {
   "cell_type": "markdown",
   "id": "9eb0f7fe-30f1-4ebf-9d57-c2b3efde249b",
   "metadata": {},
   "source": [
    "<h2>Question No.3</h2>\n",
    "<h3>Which district has the highest accident numbers?</h3>"
   ]
  },
  {
   "cell_type": "code",
   "execution_count": 29,
   "id": "17b47509-78e1-4fc1-a059-1940739556ec",
   "metadata": {},
   "outputs": [
    {
     "data": {
      "text/plain": [
       "District Area\n",
       "Birmingham          13491\n",
       "Leeds                8898\n",
       "Manchester           6720\n",
       "Bradford             6212\n",
       "Sheffield            5710\n",
       "Westminster          5706\n",
       "Liverpool            5587\n",
       "Glasgow City         4942\n",
       "Bristol, City of     4819\n",
       "Kirklees             4690\n",
       "Name: count, dtype: int64"
      ]
     },
     "execution_count": 29,
     "metadata": {},
     "output_type": "execute_result"
    }
   ],
   "source": [
    "accident['District Area'].value_counts().head(10)"
   ]
  },
  {
   "cell_type": "markdown",
   "id": "b0375804-6ff7-4662-8286-08815e80a15a",
   "metadata": {},
   "source": [
    "<h3>Insight:Birmingham has the highest number of accidents among districts, with 13,491 recorded incidents, indicating it may require focused road safety measures.\n",
    "</h3>"
   ]
  },
  {
   "cell_type": "markdown",
   "id": "d784c684-3a11-4bc5-ae02-889a2218df50",
   "metadata": {},
   "source": [
    "<h2>Question No.4</h2>\n",
    "<h3>Do heavy trucks have a higher fatal accident ratio than cars?</h3>"
   ]
  },
  {
   "cell_type": "code",
   "execution_count": 30,
   "id": "b1759052-79cd-42d3-bbaf-c78485ac9e8f",
   "metadata": {},
   "outputs": [
    {
     "data": {
      "text/plain": [
       "Vehicle_Type                   Accident_Severity\n",
       "Goods 7.5 tonnes mgw and over  Slight               0.853412\n",
       "                               Serious              0.134108\n",
       "                               Fatal                0.012480\n",
       "Car                            Slight               0.853335\n",
       "                               Serious              0.133458\n",
       "                               Fatal                0.013207\n",
       "Name: proportion, dtype: float64"
      ]
     },
     "execution_count": 30,
     "metadata": {},
     "output_type": "execute_result"
    }
   ],
   "source": [
    "accident.groupby('Vehicle_Type')['Accident_Severity'].value_counts(normalize=True).loc[['Goods 7.5 tonnes mgw and over','Car']]"
   ]
  },
  {
   "cell_type": "markdown",
   "id": "984f47f1-0fae-4f6e-8558-2faca58529b6",
   "metadata": {},
   "source": [
    "<h3>Insight:Both heavy goods vehicles and cars show almost identical accident severity patterns, with about 85% slight, 13% serious, and 1–1.3% fatal accidents, indicating that vehicle type does not significantly change severity distribution.\n",
    "</h3>"
   ]
  },
  {
   "cell_type": "markdown",
   "id": "5681b6e8-f265-438e-8cb5-7535e0078477",
   "metadata": {},
   "source": [
    "<h2>Question No.5</h2>\n",
    "<h3>Which vehicle type has the highest average accident severity?</h3>"
   ]
  },
  {
   "cell_type": "code",
   "execution_count": 31,
   "id": "f325499f-490c-4f62-9d6c-226ba19f3869",
   "metadata": {},
   "outputs": [
    {
     "data": {
      "text/plain": [
       "Vehicle_Type\n",
       "Agricultural vehicle                       1947\n",
       "Bus or coach (17 or more pass seats)      25878\n",
       "Car                                      497992\n",
       "Data missing or out of range                  6\n",
       "Goods 7.5 tonnes mgw and over             17307\n",
       "Goods over 3.5t. and under 7.5t            6096\n",
       "Minibus (8 - 16 passenger seats)           1976\n",
       "Motorcycle 125cc and under                15269\n",
       "Motorcycle 50cc and under                  7603\n",
       "Motorcycle over 125cc and up to 500cc      7656\n",
       "Motorcycle over 500cc                     25657\n",
       "Other vehicle                              5637\n",
       "Pedal cycle                                 197\n",
       "Ridden horse                                  4\n",
       "Taxi/Private hire car                     13294\n",
       "Van / Goods 3.5 tonnes mgw or under       34160\n",
       "Name: Accident_Severity, dtype: int64"
      ]
     },
     "execution_count": 31,
     "metadata": {},
     "output_type": "execute_result"
    }
   ],
   "source": [
    "accident.groupby('Vehicle_Type')['Accident_Severity'].size()"
   ]
  },
  {
   "cell_type": "code",
   "execution_count": 32,
   "id": "60f87b01-94eb-4e6f-82a4-e6006d79968b",
   "metadata": {},
   "outputs": [
    {
     "data": {
      "text/plain": [
       "'Car'"
      ]
     },
     "execution_count": 32,
     "metadata": {},
     "output_type": "execute_result"
    }
   ],
   "source": [
    "accident.groupby('Vehicle_Type')['Accident_Severity'].size().idxmax()"
   ]
  },
  {
   "cell_type": "markdown",
   "id": "3a62da9b-6558-4561-a9b9-b59f9046cb36",
   "metadata": {},
   "source": [
    "<h3>Insight: Cars have the highest number of accidents overall, reflecting their dominance on the roads rather than a higher individual risk.</h3>"
   ]
  },
  {
   "cell_type": "markdown",
   "id": "b66f6f42-385c-4f7c-8dd1-eac44b681194",
   "metadata": {},
   "source": [
    "<h2>Questions No. 6</h2>\n",
    "<h3>What is the mean accident severity score?</h3>"
   ]
  },
  {
   "cell_type": "code",
   "execution_count": 49,
   "id": "4d11784a-ad4b-4504-b316-5dfdb5860d47",
   "metadata": {},
   "outputs": [
    {
     "data": {
      "text/plain": [
       "np.float64(1.8402567661451326)"
      ]
     },
     "execution_count": 49,
     "metadata": {},
     "output_type": "execute_result"
    }
   ],
   "source": [
    "accident['Accident_Severity_numeric'] = accident['Accident_Severity'].astype('category').cat.codes\n",
    "accident['Accident_Severity_numeric'].mean()"
   ]
  },
  {
   "cell_type": "markdown",
   "id": "1287ce14-326a-4a3d-b412-ad3c006aef74",
   "metadata": {},
   "source": [
    "<h3>Insight:The mean accident severity score of 1.84 indicates that, on average, accidents lean closer to being serious rather than slight.</h3>"
   ]
  },
  {
   "cell_type": "markdown",
   "id": "0da45e49-037a-4438-9dfe-d93b121a8ef9",
   "metadata": {},
   "source": [
    "<h2>Question No.7</h2>\n",
    "<h3>Which vehicle type has the lowest share of fatalities overall?</h3>"
   ]
  },
  {
   "cell_type": "code",
   "execution_count": 33,
   "id": "d4589f5f-1709-46fb-8ba7-932581c9bc58",
   "metadata": {
    "scrolled": true
   },
   "outputs": [
    {
     "data": {
      "text/plain": [
       "Vehicle_Type\n",
       "Agricultural vehicle                     0.010786\n",
       "Goods over 3.5t. and under 7.5t          0.010991\n",
       "Taxi/Private hire car                    0.011659\n",
       "Motorcycle 125cc and under               0.012378\n",
       "Other vehicle                            0.012418\n",
       "Goods 7.5 tonnes mgw and over            0.012480\n",
       "Motorcycle 50cc and under                0.012495\n",
       "Bus or coach (17 or more pass seats)     0.012559\n",
       "Car                                      0.013207\n",
       "Motorcycle over 500cc                    0.013213\n",
       "Van / Goods 3.5 tonnes mgw or under      0.013671\n",
       "Motorcycle over 125cc and up to 500cc    0.013715\n",
       "Minibus (8 - 16 passenger seats)         0.014676\n",
       "Pedal cycle                              0.030457\n",
       "Data missing or out of range                  NaN\n",
       "Ridden horse                                  NaN\n",
       "Name: Fatal, dtype: float64"
      ]
     },
     "execution_count": 33,
     "metadata": {},
     "output_type": "execute_result"
    }
   ],
   "source": [
    "accident.groupby('Vehicle_Type')['Accident_Severity'].value_counts(normalize=True).unstack()['Fatal'].sort_values()"
   ]
  },
  {
   "cell_type": "code",
   "execution_count": 34,
   "id": "eea66afd-ec50-4663-9dd0-a6cfa094701e",
   "metadata": {},
   "outputs": [
    {
     "data": {
      "text/plain": [
       "'Agricultural vehicle'"
      ]
     },
     "execution_count": 34,
     "metadata": {},
     "output_type": "execute_result"
    }
   ],
   "source": [
    "accident.groupby('Vehicle_Type')['Accident_Severity'].value_counts(normalize=True).unstack()['Fatal'].sort_values().idxmin()"
   ]
  },
  {
   "cell_type": "markdown",
   "id": "8b6d4da8-1be2-4c61-a672-60f855f2c838",
   "metadata": {},
   "source": [
    "<h3>Insight: Agricultural vehicles have the lowest share of fatal accidents overall, likely due to their lower speeds and limited use on busy roads</h3>"
   ]
  },
  {
   "cell_type": "markdown",
   "id": "399fa8cb-7a87-4b17-9af4-cdac357065c8",
   "metadata": {},
   "source": [
    "<h2>Question No.8</h2>\n",
    "<h3>Are accidents in rural areas more likely to result in serious or fatal outcomes compared to urban areas?</h3>"
   ]
  },
  {
   "cell_type": "code",
   "execution_count": 35,
   "id": "7faef8a0-5338-4aab-b872-4e459dd448c8",
   "metadata": {},
   "outputs": [],
   "source": [
    "rural_urban = accident.groupby('Urban_or_Rural_Area')['Accident_Severity'].value_counts(normalize=True).unstack()"
   ]
  },
  {
   "cell_type": "code",
   "execution_count": 36,
   "id": "d5126c48-a2ad-49ab-a727-85f7709dfa30",
   "metadata": {},
   "outputs": [
    {
     "data": {
      "text/html": [
       "<div>\n",
       "<style scoped>\n",
       "    .dataframe tbody tr th:only-of-type {\n",
       "        vertical-align: middle;\n",
       "    }\n",
       "\n",
       "    .dataframe tbody tr th {\n",
       "        vertical-align: top;\n",
       "    }\n",
       "\n",
       "    .dataframe thead th {\n",
       "        text-align: right;\n",
       "    }\n",
       "</style>\n",
       "<table border=\"1\" class=\"dataframe\">\n",
       "  <thead>\n",
       "    <tr style=\"text-align: right;\">\n",
       "      <th>Accident_Severity</th>\n",
       "      <th>Fatal</th>\n",
       "      <th>Serious</th>\n",
       "      <th>Slight</th>\n",
       "    </tr>\n",
       "    <tr>\n",
       "      <th>Urban_or_Rural_Area</th>\n",
       "      <th></th>\n",
       "      <th></th>\n",
       "      <th></th>\n",
       "    </tr>\n",
       "  </thead>\n",
       "  <tbody>\n",
       "    <tr>\n",
       "      <th>Rural</th>\n",
       "      <td>0.023436</td>\n",
       "      <td>0.156124</td>\n",
       "      <td>0.820440</td>\n",
       "    </tr>\n",
       "    <tr>\n",
       "      <th>Unallocated</th>\n",
       "      <td>NaN</td>\n",
       "      <td>0.090909</td>\n",
       "      <td>0.909091</td>\n",
       "    </tr>\n",
       "    <tr>\n",
       "      <th>Urban</th>\n",
       "      <td>0.007257</td>\n",
       "      <td>0.120718</td>\n",
       "      <td>0.872026</td>\n",
       "    </tr>\n",
       "  </tbody>\n",
       "</table>\n",
       "</div>"
      ],
      "text/plain": [
       "Accident_Severity       Fatal   Serious    Slight\n",
       "Urban_or_Rural_Area                              \n",
       "Rural                0.023436  0.156124  0.820440\n",
       "Unallocated               NaN  0.090909  0.909091\n",
       "Urban                0.007257  0.120718  0.872026"
      ]
     },
     "execution_count": 36,
     "metadata": {},
     "output_type": "execute_result"
    }
   ],
   "source": [
    "rural_urban"
   ]
  },
  {
   "cell_type": "markdown",
   "id": "4aaac508-f7c1-45f1-8ca3-dbbacebeeeab",
   "metadata": {},
   "source": [
    "<h3>Insight: Accidents in rural areas are more likely to be serious or fatal compared to urban areas, where crashes are mostly slight.</h3>"
   ]
  },
  {
   "cell_type": "markdown",
   "id": "2894c8f8-419d-45ed-8277-c4520b024ef3",
   "metadata": {},
   "source": [
    "<h2>Question No.9</h2>\n",
    "<h3>Which year recorded the maximum number of accidents?</h3>"
   ]
  },
  {
   "cell_type": "code",
   "execution_count": 37,
   "id": "b3990ed9-fdbd-4538-a10b-1ee429690aef",
   "metadata": {},
   "outputs": [
    {
     "data": {
      "text/plain": [
       "Accident Date\n",
       "2019    182115\n",
       "2020    170591\n",
       "2021    163554\n",
       "2022    144419\n",
       "Name: count, dtype: int64"
      ]
     },
     "execution_count": 37,
     "metadata": {},
     "output_type": "execute_result"
    }
   ],
   "source": [
    "accident['Accident Date'].dt.year.value_counts()"
   ]
  },
  {
   "cell_type": "markdown",
   "id": "7a4287e6-c7f3-4d7b-bb42-df8fd55e32e6",
   "metadata": {},
   "source": [
    "<h3>Insight: The year 2019 recorded the highest number of accidents, showing a declining trend in subsequent years.</h3>"
   ]
  },
  {
   "cell_type": "markdown",
   "id": "647407ed-ea57-4583-aa40-c0493e197a0f",
   "metadata": {},
   "source": [
    "<h2>Question No.10</h2>\n",
    "<h3>Which vehicle type is most frequently involved in accidents?</h3>"
   ]
  },
  {
   "cell_type": "code",
   "execution_count": 86,
   "id": "dbd6d2e7-11db-479e-bd93-c89b78b2164e",
   "metadata": {},
   "outputs": [
    {
     "data": {
      "text/plain": [
       "Vehicle_Type\n",
       "Car                                      497992\n",
       "Van / Goods 3.5 tonnes mgw or under       34160\n",
       "Bus or coach (17 or more pass seats)      25878\n",
       "Motorcycle over 500cc                     25657\n",
       "Goods 7.5 tonnes mgw and over             17307\n",
       "Motorcycle 125cc and under                15269\n",
       "Taxi/Private hire car                     13294\n",
       "Motorcycle over 125cc and up to 500cc      7656\n",
       "Motorcycle 50cc and under                  7603\n",
       "Goods over 3.5t. and under 7.5t            6096\n",
       "Other vehicle                              5637\n",
       "Minibus (8 - 16 passenger seats)           1976\n",
       "Agricultural vehicle                       1947\n",
       "Pedal cycle                                 197\n",
       "Data missing or out of range                  6\n",
       "Ridden horse                                  4\n",
       "Name: count, dtype: int64"
      ]
     },
     "execution_count": 86,
     "metadata": {},
     "output_type": "execute_result"
    }
   ],
   "source": [
    "accident['Vehicle_Type'].value_counts()"
   ]
  },
  {
   "cell_type": "code",
   "execution_count": 47,
   "id": "f7c1f0ab-6d59-4c32-83b8-3899b7ee43bb",
   "metadata": {},
   "outputs": [
    {
     "data": {
      "text/plain": [
       "'Car'"
      ]
     },
     "execution_count": 47,
     "metadata": {},
     "output_type": "execute_result"
    }
   ],
   "source": [
    "accident['Vehicle_Type'].value_counts().idxmax()"
   ]
  },
  {
   "cell_type": "markdown",
   "id": "24c148f0-8a61-497a-b28d-40f66b2c9a8d",
   "metadata": {},
   "source": [
    "<h3>Insight: Cars are the most frequently involved in accidents, accounting for nearly half a million cases, far exceeding all other vehicle types.</h3>"
   ]
  },
  {
   "cell_type": "markdown",
   "id": "fef79c4c-45df-478f-8e3c-00abc77dcc89",
   "metadata": {},
   "source": [
    "<h2>Question No.11</h2>\n",
    "<h3>Are multi-vehicle accidents in wet weather more likely to be serious than in dry weather?</h3>"
   ]
  },
  {
   "cell_type": "code",
   "execution_count": 48,
   "id": "5d88a6e8-2f5d-4568-b800-593cc483bb47",
   "metadata": {},
   "outputs": [
    {
     "data": {
      "text/html": [
       "<div>\n",
       "<style scoped>\n",
       "    .dataframe tbody tr th:only-of-type {\n",
       "        vertical-align: middle;\n",
       "    }\n",
       "\n",
       "    .dataframe tbody tr th {\n",
       "        vertical-align: top;\n",
       "    }\n",
       "\n",
       "    .dataframe thead th {\n",
       "        text-align: right;\n",
       "    }\n",
       "</style>\n",
       "<table border=\"1\" class=\"dataframe\">\n",
       "  <thead>\n",
       "    <tr style=\"text-align: right;\">\n",
       "      <th>Road_Surface_Conditions</th>\n",
       "      <th>Dry</th>\n",
       "      <th>Wet or damp</th>\n",
       "    </tr>\n",
       "    <tr>\n",
       "      <th>Number_of_Vehicles</th>\n",
       "      <th></th>\n",
       "      <th></th>\n",
       "    </tr>\n",
       "  </thead>\n",
       "  <tbody>\n",
       "    <tr>\n",
       "      <th>False</th>\n",
       "      <td>129730</td>\n",
       "      <td>59265</td>\n",
       "    </tr>\n",
       "    <tr>\n",
       "      <th>True</th>\n",
       "      <td>318817</td>\n",
       "      <td>127443</td>\n",
       "    </tr>\n",
       "  </tbody>\n",
       "</table>\n",
       "</div>"
      ],
      "text/plain": [
       "Road_Surface_Conditions     Dry  Wet or damp\n",
       "Number_of_Vehicles                          \n",
       "False                    129730        59265\n",
       "True                     318817       127443"
      ]
     },
     "execution_count": 48,
     "metadata": {},
     "output_type": "execute_result"
    }
   ],
   "source": [
    "multivehicle = accident.groupby(accident['Number_of_Vehicles'] >= 2)['Road_Surface_Conditions'].value_counts().unstack()\n",
    "multivehicle[['Dry', 'Wet or damp']]"
   ]
  },
  {
   "cell_type": "markdown",
   "id": "d5131b49-0c50-445f-8d6b-d1682261f214",
   "metadata": {},
   "source": [
    "<h3>Insight: Multi-vehicle accidents occur more often on dry roads (318,817) than on wet ones (127,443), but wet conditions still contribute a significant share, highlighting higher risk when roads are slippery.</h3>"
   ]
  },
  {
   "cell_type": "markdown",
   "id": "ceaf647c-9431-43b8-9a98-5698872dd231",
   "metadata": {},
   "source": [
    "<h2>Question No.12</h2>\n",
    "<h3>Do rural or urban areas report more accidents?</h3>"
   ]
  },
  {
   "cell_type": "code",
   "execution_count": 55,
   "id": "ba3496eb-98af-4fe2-97be-18fbdf3e2479",
   "metadata": {},
   "outputs": [
    {
     "data": {
      "text/plain": [
       "Urban_or_Rural_Area\n",
       "Urban          421678\n",
       "Rural          238990\n",
       "Unallocated        11\n",
       "Name: count, dtype: int64"
      ]
     },
     "execution_count": 55,
     "metadata": {},
     "output_type": "execute_result"
    }
   ],
   "source": [
    "accident['Urban_or_Rural_Area'].value_counts()"
   ]
  },
  {
   "cell_type": "markdown",
   "id": "fd04ac5f-fea7-416c-809e-a9f150b59d3f",
   "metadata": {},
   "source": [
    "<h3>Insight: Urban areas report significantly more accidents than rural areas, reflecting higher traffic density and exposure in cities.</h3>"
   ]
  },
  {
   "cell_type": "markdown",
   "id": "1df88b67-36ef-427a-b66c-28c79833a5fa",
   "metadata": {},
   "source": [
    "<h2>Question No.13</h2>\n",
    "<h3>Do fatal accidents occur more on weekends or weekdays?</h3>"
   ]
  },
  {
   "cell_type": "code",
   "execution_count": 57,
   "id": "dbf56df6-a8f2-40e1-aacf-ad9d745426f7",
   "metadata": {},
   "outputs": [
    {
     "data": {
      "text/plain": [
       "Day_Type\n",
       "Weekday    5813\n",
       "Weekend    2848\n",
       "Name: count, dtype: int64"
      ]
     },
     "execution_count": 57,
     "metadata": {},
     "output_type": "execute_result"
    }
   ],
   "source": [
    "fatal = accident[accident['Accident_Severity'] == 'Fatal']\n",
    "fatal['Day_Type'] = fatal['Accident Date'].dt.dayofweek.apply(lambda x: 'Weekend' if x >= 5 else 'Weekday')\n",
    "fatal['Day_Type'].value_counts()"
   ]
  },
  {
   "cell_type": "markdown",
   "id": "dc0eb2fb-d950-4d5c-8282-394f74023156",
   "metadata": {},
   "source": [
    "<h3>Insight: Fatal accidents occur more on weekdays than weekends, suggesting higher risk during regular traffic days.</h3>"
   ]
  },
  {
   "cell_type": "markdown",
   "id": "7ecfaf33-35f1-477a-b6c0-d80d9b0dd72d",
   "metadata": {},
   "source": [
    "<h2>Question No.14</h2>\n",
    "<h3>Do accidents increase in December holiday season?</h3>"
   ]
  },
  {
   "cell_type": "code",
   "execution_count": 60,
   "id": "452ecdb8-bd83-403a-8f20-157f74343183",
   "metadata": {},
   "outputs": [
    {
     "data": {
      "text/plain": [
       "Accident Date\n",
       "1     52872\n",
       "2     49491\n",
       "3     54086\n",
       "4     51744\n",
       "5     56352\n",
       "6     56481\n",
       "7     57445\n",
       "8     53913\n",
       "9     56455\n",
       "10    59580\n",
       "11    60424\n",
       "12    51836\n",
       "Name: count, dtype: int64"
      ]
     },
     "execution_count": 60,
     "metadata": {},
     "output_type": "execute_result"
    }
   ],
   "source": [
    "accident['Accident Date'].dt.month.value_counts().sort_index()"
   ]
  },
  {
   "cell_type": "code",
   "execution_count": 62,
   "id": "110b5dc8-b641-405b-8773-cc753782ff79",
   "metadata": {},
   "outputs": [
    {
     "data": {
      "text/plain": [
       "51836"
      ]
     },
     "execution_count": 62,
     "metadata": {},
     "output_type": "execute_result"
    }
   ],
   "source": [
    "december_accidents = accident[accident['Accident Date'].dt.month == 12]\n",
    "december_accidents.shape[0]"
   ]
  },
  {
   "cell_type": "markdown",
   "id": "2f2d44fb-a36e-4523-b207-c53776bbfd0c",
   "metadata": {},
   "source": [
    "<h3>Insight: Accidents in December (51,836) are not the highest, showing that the holiday season does not lead to a spike compared to months like October and November.</h3>"
   ]
  },
  {
   "cell_type": "markdown",
   "id": "953d0778-fa73-4e64-a5b8-2e027fc1c099",
   "metadata": {},
   "source": [
    "<h2>Question No.15</h2>\n",
    "<h3>Which weather condition leads to the highest number of accidents?</h3>"
   ]
  },
  {
   "cell_type": "code",
   "execution_count": 74,
   "id": "0b5e4ecc-4540-47a8-80c0-ba862961b05c",
   "metadata": {},
   "outputs": [
    {
     "data": {
      "text/plain": [
       "Weather_Conditions\n",
       "Fine no high winds       535013\n",
       "Raining no high winds     79696\n",
       "Other                     17150\n",
       "Raining + high winds       9615\n",
       "Fine + high winds          8554\n",
       "Snowing no high winds      6238\n",
       "Fog or mist                3528\n",
       "Snowing + high winds        885\n",
       "Name: count, dtype: int64"
      ]
     },
     "execution_count": 74,
     "metadata": {},
     "output_type": "execute_result"
    }
   ],
   "source": [
    "accident['Weather_Conditions'].value_counts()"
   ]
  },
  {
   "cell_type": "code",
   "execution_count": 76,
   "id": "8807910a-e109-41ae-af98-a2b9a81ade6a",
   "metadata": {},
   "outputs": [
    {
     "data": {
      "text/plain": [
       "'Fine no high winds'"
      ]
     },
     "execution_count": 76,
     "metadata": {},
     "output_type": "execute_result"
    }
   ],
   "source": [
    "accident['Weather_Conditions'].value_counts().idxmax()"
   ]
  },
  {
   "cell_type": "markdown",
   "id": "09aed06e-19b6-4e5f-8e3d-8cfa368ca0d8",
   "metadata": {},
   "source": [
    "<h3>Insight: Most accidents occur in fine weather with no high winds, reflecting higher traffic exposure rather than dangerous conditions.</h3>"
   ]
  },
  {
   "cell_type": "markdown",
   "id": "305fc5ae-310d-44b9-af0e-c13d797e4d25",
   "metadata": {},
   "source": [
    "<h2>Question No.16</h2>\n",
    "<h3>Do more serious accidents happen in the morning or evening?</h3>"
   ]
  },
  {
   "cell_type": "code",
   "execution_count": 79,
   "id": "922e007f-d450-4619-8791-37ad1f12d55f",
   "metadata": {},
   "outputs": [
    {
     "data": {
      "text/plain": [
       "Accident Date\n",
       "Evening    88217\n",
       "Name: count, dtype: int64"
      ]
     },
     "execution_count": 79,
     "metadata": {},
     "output_type": "execute_result"
    }
   ],
   "source": [
    "serious = accident[accident['Accident_Severity'] == 'Serious']\n",
    "serious['Accident Date'].dt.hour.apply(lambda h: 'Morning' if 5 <= h <= 11 else 'Evening').value_counts()"
   ]
  },
  {
   "cell_type": "markdown",
   "id": "7f0defaa-1e48-4d76-ba6f-c68f40fc1c36",
   "metadata": {},
   "source": [
    "<h3>Insight: Serious accidents happen more often in the evening than in the morning, indicating higher risk during later hours of the day.</h3>"
   ]
  },
  {
   "cell_type": "markdown",
   "id": "22140e78-eb9f-44ab-8a23-16120742f9a5",
   "metadata": {},
   "source": [
    "<h2>Question No.17</h2>\n",
    "<h3>How many accidents happened during snowing weather conditions?</h3>"
   ]
  },
  {
   "cell_type": "code",
   "execution_count": 83,
   "id": "21724d3d-d2fd-4d3a-ac96-f99ddc0f3972",
   "metadata": {},
   "outputs": [
    {
     "data": {
      "text/plain": [
       "7123"
      ]
     },
     "execution_count": 83,
     "metadata": {},
     "output_type": "execute_result"
    }
   ],
   "source": [
    "snow_accidents = accident[accident['Weather_Conditions'].str.contains('Snow', case=False, na=False)]\n",
    "snow_accidents.shape[0]"
   ]
  },
  {
   "cell_type": "markdown",
   "id": "d7c73891-5713-4eef-8fbc-4fc7ba3c9ff3",
   "metadata": {},
   "source": [
    "<h3>Insight: A total of 7,123 accidents occurred during snowing conditions, showing that snowy weather significantly contributes to road risk.</h3>"
   ]
  },
  {
   "cell_type": "markdown",
   "id": "e5b83dd6-08b9-4eb9-a558-4eb3e1d56972",
   "metadata": {},
   "source": [
    "<h2>Question No.18</h2>\n",
    "<h3>Which months show spikes in accidents due to winter conditions?</h3>"
   ]
  },
  {
   "cell_type": "code",
   "execution_count": 89,
   "id": "e5c96e09-01af-4152-b92d-acf9dc521c17",
   "metadata": {},
   "outputs": [
    {
     "data": {
      "text/plain": [
       "Accident Date\n",
       "1     1366\n",
       "2     1533\n",
       "3      259\n",
       "4      109\n",
       "5        9\n",
       "6        6\n",
       "7        8\n",
       "8        6\n",
       "9        6\n",
       "10      48\n",
       "11     504\n",
       "12    2036\n",
       "Name: count, dtype: int64"
      ]
     },
     "execution_count": 89,
     "metadata": {},
     "output_type": "execute_result"
    }
   ],
   "source": [
    "winter_accidents = accident[accident['Road_Surface_Conditions'].isin(['Snow', 'Ice', 'Frost'])]\n",
    "winter_accidents['Accident Date'].dt.month.value_counts().sort_index()"
   ]
  },
  {
   "cell_type": "markdown",
   "id": "155aae76-2e1a-4ad1-9bd8-d85fe6960a39",
   "metadata": {},
   "source": [
    "<h3>Insight: Winter-condition accidents spike in **December, January, and February**, confirming higher risk during the coldest months.</h3>"
   ]
  },
  {
   "cell_type": "markdown",
   "id": "eef7c1bf-0743-44bb-876f-50d4cfeb5d8d",
   "metadata": {},
   "source": [
    "<h2>Question No.19</h2>\n",
    "<h3>How many accidents happened with “Darkness - lighting unknown” light conditions?</h3>"
   ]
  },
  {
   "cell_type": "code",
   "execution_count": 97,
   "id": "0aaed2f0-cabb-4c0c-b99a-a9d405a8c6da",
   "metadata": {},
   "outputs": [
    {
     "data": {
      "text/html": [
       "<div>\n",
       "<style scoped>\n",
       "    .dataframe tbody tr th:only-of-type {\n",
       "        vertical-align: middle;\n",
       "    }\n",
       "\n",
       "    .dataframe tbody tr th {\n",
       "        vertical-align: top;\n",
       "    }\n",
       "\n",
       "    .dataframe thead th {\n",
       "        text-align: right;\n",
       "    }\n",
       "</style>\n",
       "<table border=\"1\" class=\"dataframe\">\n",
       "  <thead>\n",
       "    <tr style=\"text-align: right;\">\n",
       "      <th></th>\n",
       "      <th>Index</th>\n",
       "      <th>Accident_Severity</th>\n",
       "      <th>Accident Date</th>\n",
       "      <th>Latitude</th>\n",
       "      <th>Light_Conditions</th>\n",
       "      <th>District Area</th>\n",
       "      <th>Longitude</th>\n",
       "      <th>Number_of_Casualties</th>\n",
       "      <th>Number_of_Vehicles</th>\n",
       "      <th>Road_Surface_Conditions</th>\n",
       "      <th>Road_Type</th>\n",
       "      <th>Urban_or_Rural_Area</th>\n",
       "      <th>Weather_Conditions</th>\n",
       "      <th>Vehicle_Type</th>\n",
       "      <th>Year</th>\n",
       "      <th>Month</th>\n",
       "      <th>Day</th>\n",
       "      <th>DayofWeek</th>\n",
       "      <th>Accident_Severity_numeric</th>\n",
       "      <th>Accident_Hour</th>\n",
       "    </tr>\n",
       "  </thead>\n",
       "  <tbody>\n",
       "    <tr>\n",
       "      <th>2</th>\n",
       "      <td>200701BS66127</td>\n",
       "      <td>Serious</td>\n",
       "      <td>2019-08-26</td>\n",
       "      <td>51.517715</td>\n",
       "      <td>Darkness - lighting unknown</td>\n",
       "      <td>Kensington and Chelsea</td>\n",
       "      <td>-0.210215</td>\n",
       "      <td>1</td>\n",
       "      <td>3</td>\n",
       "      <td>Dry</td>\n",
       "      <td>Single carriageway</td>\n",
       "      <td>Urban</td>\n",
       "      <td>Fine no high winds</td>\n",
       "      <td>Taxi/Private hire car</td>\n",
       "      <td>2019</td>\n",
       "      <td>8</td>\n",
       "      <td>26</td>\n",
       "      <td>0</td>\n",
       "      <td>1</td>\n",
       "      <td>0</td>\n",
       "    </tr>\n",
       "    <tr>\n",
       "      <th>803</th>\n",
       "      <td>200701CP00120</td>\n",
       "      <td>Slight</td>\n",
       "      <td>2019-05-03</td>\n",
       "      <td>51.517540</td>\n",
       "      <td>Darkness - lighting unknown</td>\n",
       "      <td>City of London</td>\n",
       "      <td>-0.096354</td>\n",
       "      <td>1</td>\n",
       "      <td>2</td>\n",
       "      <td>Dry</td>\n",
       "      <td>Roundabout</td>\n",
       "      <td>Urban</td>\n",
       "      <td>Fine no high winds</td>\n",
       "      <td>Bus or coach (17 or more pass seats)</td>\n",
       "      <td>2019</td>\n",
       "      <td>5</td>\n",
       "      <td>3</td>\n",
       "      <td>4</td>\n",
       "      <td>2</td>\n",
       "      <td>0</td>\n",
       "    </tr>\n",
       "    <tr>\n",
       "      <th>1399</th>\n",
       "      <td>200701CW10455</td>\n",
       "      <td>Serious</td>\n",
       "      <td>2019-04-12</td>\n",
       "      <td>51.513068</td>\n",
       "      <td>Darkness - lighting unknown</td>\n",
       "      <td>Westminster</td>\n",
       "      <td>-0.131418</td>\n",
       "      <td>1</td>\n",
       "      <td>1</td>\n",
       "      <td>Dry</td>\n",
       "      <td>One way street</td>\n",
       "      <td>Urban</td>\n",
       "      <td>Fine no high winds</td>\n",
       "      <td>Motorcycle over 500cc</td>\n",
       "      <td>2019</td>\n",
       "      <td>4</td>\n",
       "      <td>12</td>\n",
       "      <td>4</td>\n",
       "      <td>1</td>\n",
       "      <td>0</td>\n",
       "    </tr>\n",
       "    <tr>\n",
       "      <th>1878</th>\n",
       "      <td>200701CW11036</td>\n",
       "      <td>Slight</td>\n",
       "      <td>2019-10-13</td>\n",
       "      <td>51.510616</td>\n",
       "      <td>Darkness - lighting unknown</td>\n",
       "      <td>Westminster</td>\n",
       "      <td>-0.135554</td>\n",
       "      <td>1</td>\n",
       "      <td>2</td>\n",
       "      <td>Dry</td>\n",
       "      <td>One way street</td>\n",
       "      <td>Urban</td>\n",
       "      <td>Fine no high winds</td>\n",
       "      <td>Bus or coach (17 or more pass seats)</td>\n",
       "      <td>2019</td>\n",
       "      <td>10</td>\n",
       "      <td>13</td>\n",
       "      <td>6</td>\n",
       "      <td>2</td>\n",
       "      <td>0</td>\n",
       "    </tr>\n",
       "    <tr>\n",
       "      <th>1917</th>\n",
       "      <td>200701CW11093</td>\n",
       "      <td>Serious</td>\n",
       "      <td>2019-10-23</td>\n",
       "      <td>51.526886</td>\n",
       "      <td>Darkness - lighting unknown</td>\n",
       "      <td>Westminster</td>\n",
       "      <td>-0.192556</td>\n",
       "      <td>1</td>\n",
       "      <td>2</td>\n",
       "      <td>Dry</td>\n",
       "      <td>Single carriageway</td>\n",
       "      <td>Urban</td>\n",
       "      <td>Fine no high winds</td>\n",
       "      <td>Goods 7.5 tonnes mgw and over</td>\n",
       "      <td>2019</td>\n",
       "      <td>10</td>\n",
       "      <td>23</td>\n",
       "      <td>2</td>\n",
       "      <td>1</td>\n",
       "      <td>0</td>\n",
       "    </tr>\n",
       "    <tr>\n",
       "      <th>...</th>\n",
       "      <td>...</td>\n",
       "      <td>...</td>\n",
       "      <td>...</td>\n",
       "      <td>...</td>\n",
       "      <td>...</td>\n",
       "      <td>...</td>\n",
       "      <td>...</td>\n",
       "      <td>...</td>\n",
       "      <td>...</td>\n",
       "      <td>...</td>\n",
       "      <td>...</td>\n",
       "      <td>...</td>\n",
       "      <td>...</td>\n",
       "      <td>...</td>\n",
       "      <td>...</td>\n",
       "      <td>...</td>\n",
       "      <td>...</td>\n",
       "      <td>...</td>\n",
       "      <td>...</td>\n",
       "      <td>...</td>\n",
       "    </tr>\n",
       "    <tr>\n",
       "      <th>660318</th>\n",
       "      <td>201063DP36110</td>\n",
       "      <td>Serious</td>\n",
       "      <td>2022-11-06</td>\n",
       "      <td>51.801639</td>\n",
       "      <td>Darkness - lighting unknown</td>\n",
       "      <td>Powys</td>\n",
       "      <td>-3.696515</td>\n",
       "      <td>1</td>\n",
       "      <td>1</td>\n",
       "      <td>Wet or damp</td>\n",
       "      <td>Single carriageway</td>\n",
       "      <td>Rural</td>\n",
       "      <td>Raining no high winds</td>\n",
       "      <td>Goods 7.5 tonnes mgw and over</td>\n",
       "      <td>2022</td>\n",
       "      <td>11</td>\n",
       "      <td>6</td>\n",
       "      <td>6</td>\n",
       "      <td>1</td>\n",
       "      <td>0</td>\n",
       "    </tr>\n",
       "    <tr>\n",
       "      <th>660492</th>\n",
       "      <td>201091NH05126</td>\n",
       "      <td>Slight</td>\n",
       "      <td>2022-09-27</td>\n",
       "      <td>58.210588</td>\n",
       "      <td>Darkness - lighting unknown</td>\n",
       "      <td>Western Isles</td>\n",
       "      <td>-6.319518</td>\n",
       "      <td>2</td>\n",
       "      <td>1</td>\n",
       "      <td>Dry</td>\n",
       "      <td>Single carriageway</td>\n",
       "      <td>Rural</td>\n",
       "      <td>Fine no high winds</td>\n",
       "      <td>Car</td>\n",
       "      <td>2022</td>\n",
       "      <td>9</td>\n",
       "      <td>27</td>\n",
       "      <td>1</td>\n",
       "      <td>2</td>\n",
       "      <td>0</td>\n",
       "    </tr>\n",
       "    <tr>\n",
       "      <th>660663</th>\n",
       "      <td>201091NM00594</td>\n",
       "      <td>Slight</td>\n",
       "      <td>2022-01-16</td>\n",
       "      <td>56.865367</td>\n",
       "      <td>Darkness - lighting unknown</td>\n",
       "      <td>Highland</td>\n",
       "      <td>-4.253688</td>\n",
       "      <td>1</td>\n",
       "      <td>1</td>\n",
       "      <td>Frost or ice</td>\n",
       "      <td>Single carriageway</td>\n",
       "      <td>Rural</td>\n",
       "      <td>Raining no high winds</td>\n",
       "      <td>Car</td>\n",
       "      <td>2022</td>\n",
       "      <td>1</td>\n",
       "      <td>16</td>\n",
       "      <td>6</td>\n",
       "      <td>2</td>\n",
       "      <td>0</td>\n",
       "    </tr>\n",
       "    <tr>\n",
       "      <th>660664</th>\n",
       "      <td>201091NM00595</td>\n",
       "      <td>Slight</td>\n",
       "      <td>2022-01-16</td>\n",
       "      <td>56.880265</td>\n",
       "      <td>Darkness - lighting unknown</td>\n",
       "      <td>Highland</td>\n",
       "      <td>-4.254749</td>\n",
       "      <td>1</td>\n",
       "      <td>1</td>\n",
       "      <td>Frost or ice</td>\n",
       "      <td>Single carriageway</td>\n",
       "      <td>Rural</td>\n",
       "      <td>Other</td>\n",
       "      <td>Motorcycle over 125cc and up to 500cc</td>\n",
       "      <td>2022</td>\n",
       "      <td>1</td>\n",
       "      <td>16</td>\n",
       "      <td>6</td>\n",
       "      <td>2</td>\n",
       "      <td>0</td>\n",
       "    </tr>\n",
       "    <tr>\n",
       "      <th>660666</th>\n",
       "      <td>201091NM00770</td>\n",
       "      <td>Slight</td>\n",
       "      <td>2022-01-21</td>\n",
       "      <td>56.879446</td>\n",
       "      <td>Darkness - lighting unknown</td>\n",
       "      <td>Highland</td>\n",
       "      <td>-4.255357</td>\n",
       "      <td>2</td>\n",
       "      <td>4</td>\n",
       "      <td>Snow</td>\n",
       "      <td>Single carriageway</td>\n",
       "      <td>Rural</td>\n",
       "      <td>Snowing + high winds</td>\n",
       "      <td>Car</td>\n",
       "      <td>2022</td>\n",
       "      <td>1</td>\n",
       "      <td>21</td>\n",
       "      <td>4</td>\n",
       "      <td>2</td>\n",
       "      <td>0</td>\n",
       "    </tr>\n",
       "  </tbody>\n",
       "</table>\n",
       "<p>6484 rows × 20 columns</p>\n",
       "</div>"
      ],
      "text/plain": [
       "                Index Accident_Severity Accident Date   Latitude  \\\n",
       "2       200701BS66127           Serious    2019-08-26  51.517715   \n",
       "803     200701CP00120            Slight    2019-05-03  51.517540   \n",
       "1399    200701CW10455           Serious    2019-04-12  51.513068   \n",
       "1878    200701CW11036            Slight    2019-10-13  51.510616   \n",
       "1917    200701CW11093           Serious    2019-10-23  51.526886   \n",
       "...               ...               ...           ...        ...   \n",
       "660318  201063DP36110           Serious    2022-11-06  51.801639   \n",
       "660492  201091NH05126            Slight    2022-09-27  58.210588   \n",
       "660663  201091NM00594            Slight    2022-01-16  56.865367   \n",
       "660664  201091NM00595            Slight    2022-01-16  56.880265   \n",
       "660666  201091NM00770            Slight    2022-01-21  56.879446   \n",
       "\n",
       "                   Light_Conditions           District Area  Longitude  \\\n",
       "2       Darkness - lighting unknown  Kensington and Chelsea  -0.210215   \n",
       "803     Darkness - lighting unknown          City of London  -0.096354   \n",
       "1399    Darkness - lighting unknown             Westminster  -0.131418   \n",
       "1878    Darkness - lighting unknown             Westminster  -0.135554   \n",
       "1917    Darkness - lighting unknown             Westminster  -0.192556   \n",
       "...                             ...                     ...        ...   \n",
       "660318  Darkness - lighting unknown                   Powys  -3.696515   \n",
       "660492  Darkness - lighting unknown           Western Isles  -6.319518   \n",
       "660663  Darkness - lighting unknown                Highland  -4.253688   \n",
       "660664  Darkness - lighting unknown                Highland  -4.254749   \n",
       "660666  Darkness - lighting unknown                Highland  -4.255357   \n",
       "\n",
       "        Number_of_Casualties  Number_of_Vehicles Road_Surface_Conditions  \\\n",
       "2                          1                   3                     Dry   \n",
       "803                        1                   2                     Dry   \n",
       "1399                       1                   1                     Dry   \n",
       "1878                       1                   2                     Dry   \n",
       "1917                       1                   2                     Dry   \n",
       "...                      ...                 ...                     ...   \n",
       "660318                     1                   1             Wet or damp   \n",
       "660492                     2                   1                     Dry   \n",
       "660663                     1                   1            Frost or ice   \n",
       "660664                     1                   1            Frost or ice   \n",
       "660666                     2                   4                    Snow   \n",
       "\n",
       "                 Road_Type Urban_or_Rural_Area     Weather_Conditions  \\\n",
       "2       Single carriageway               Urban     Fine no high winds   \n",
       "803             Roundabout               Urban     Fine no high winds   \n",
       "1399        One way street               Urban     Fine no high winds   \n",
       "1878        One way street               Urban     Fine no high winds   \n",
       "1917    Single carriageway               Urban     Fine no high winds   \n",
       "...                    ...                 ...                    ...   \n",
       "660318  Single carriageway               Rural  Raining no high winds   \n",
       "660492  Single carriageway               Rural     Fine no high winds   \n",
       "660663  Single carriageway               Rural  Raining no high winds   \n",
       "660664  Single carriageway               Rural                  Other   \n",
       "660666  Single carriageway               Rural   Snowing + high winds   \n",
       "\n",
       "                                 Vehicle_Type  Year  Month  Day  DayofWeek  \\\n",
       "2                       Taxi/Private hire car  2019      8   26          0   \n",
       "803      Bus or coach (17 or more pass seats)  2019      5    3          4   \n",
       "1399                    Motorcycle over 500cc  2019      4   12          4   \n",
       "1878     Bus or coach (17 or more pass seats)  2019     10   13          6   \n",
       "1917            Goods 7.5 tonnes mgw and over  2019     10   23          2   \n",
       "...                                       ...   ...    ...  ...        ...   \n",
       "660318          Goods 7.5 tonnes mgw and over  2022     11    6          6   \n",
       "660492                                    Car  2022      9   27          1   \n",
       "660663                                    Car  2022      1   16          6   \n",
       "660664  Motorcycle over 125cc and up to 500cc  2022      1   16          6   \n",
       "660666                                    Car  2022      1   21          4   \n",
       "\n",
       "        Accident_Severity_numeric  Accident_Hour  \n",
       "2                               1              0  \n",
       "803                             2              0  \n",
       "1399                            1              0  \n",
       "1878                            2              0  \n",
       "1917                            1              0  \n",
       "...                           ...            ...  \n",
       "660318                          1              0  \n",
       "660492                          2              0  \n",
       "660663                          2              0  \n",
       "660664                          2              0  \n",
       "660666                          2              0  \n",
       "\n",
       "[6484 rows x 20 columns]"
      ]
     },
     "execution_count": 97,
     "metadata": {},
     "output_type": "execute_result"
    }
   ],
   "source": [
    "dark_unknown = accident[accident['Light_Conditions'] == 'Darkness - lighting unknown']\n",
    "dark_unknown"
   ]
  },
  {
   "cell_type": "code",
   "execution_count": 95,
   "id": "cf58be96-a87c-4c07-8af1-535615c0c4bb",
   "metadata": {},
   "outputs": [
    {
     "data": {
      "text/plain": [
       "6484"
      ]
     },
     "execution_count": 95,
     "metadata": {},
     "output_type": "execute_result"
    }
   ],
   "source": [
    "dark_unknown = accident[accident['Light_Conditions'] == 'Darkness - lighting unknown']\n",
    "dark_unknown.shape[0]"
   ]
  },
  {
   "cell_type": "markdown",
   "id": "a1df7e4b-b24f-45fc-8978-246dad6c7b75",
   "metadata": {},
   "source": [
    "<h3>Insight: A total of 6,484 accidents occurred under “Darkness - lighting unknown” conditions, highlighting the risks of poor or uncertain road lighting at night.</h3>"
   ]
  },
  {
   "cell_type": "markdown",
   "id": "7a729c29-4fe7-4cb1-8171-6be2ab84f552",
   "metadata": {},
   "source": [
    "<h2>Question No.20</h2>\n",
    "<h3>What is the distribution of accident severities across all weather types?</h3>"
   ]
  },
  {
   "cell_type": "code",
   "execution_count": 98,
   "id": "2a698f79-63f2-4f5d-a3f9-88e446f097eb",
   "metadata": {},
   "outputs": [
    {
     "data": {
      "text/plain": [
       "Weather_Conditions     Accident_Severity\n",
       "Fine + high winds      Slight                 7134\n",
       "                       Serious                1245\n",
       "                       Fatal                   175\n",
       "Fine no high winds     Slight               454521\n",
       "                       Serious               73285\n",
       "                       Fatal                  7207\n",
       "Fog or mist            Slight                 2963\n",
       "                       Serious                 483\n",
       "                       Fatal                    82\n",
       "Other                  Slight                15184\n",
       "                       Serious                1801\n",
       "                       Fatal                   165\n",
       "Raining + high winds   Slight                 8209\n",
       "                       Serious                1261\n",
       "                       Fatal                   145\n",
       "Raining no high winds  Slight                69380\n",
       "                       Serious                9468\n",
       "                       Fatal                   848\n",
       "Snowing + high winds   Slight                  773\n",
       "                       Serious                 109\n",
       "                       Fatal                     3\n",
       "Snowing no high winds  Slight                 5637\n",
       "                       Serious                 565\n",
       "                       Fatal                    36\n",
       "Name: count, dtype: int64"
      ]
     },
     "execution_count": 98,
     "metadata": {},
     "output_type": "execute_result"
    }
   ],
   "source": [
    "accident.groupby('Weather_Conditions')['Accident_Severity'].value_counts()"
   ]
  },
  {
   "cell_type": "markdown",
   "id": "7e59a719-3b98-404e-a79f-71c0d87c8c9b",
   "metadata": {},
   "source": [
    "<h3>Insight: Most accidents across all weather types are slight, but serious and fatal accidents are more pronounced in rain, fog, and snow, underscoring the added danger of poor weather conditions.\n",
    "</h3>"
   ]
  },
  {
   "cell_type": "markdown",
   "id": "d582f67b-06f1-4811-91a8-3221b53962a2",
   "metadata": {},
   "source": [
    "<h2>Question No.21</h2>\n",
    "<h3> Is there a correlation between the number of vehicles involved and the number of casualties?</h3>"
   ]
  },
  {
   "cell_type": "code",
   "execution_count": 100,
   "id": "d950b06b-2ded-41a4-b18a-d86656bb3240",
   "metadata": {},
   "outputs": [
    {
     "data": {
      "text/html": [
       "<div>\n",
       "<style scoped>\n",
       "    .dataframe tbody tr th:only-of-type {\n",
       "        vertical-align: middle;\n",
       "    }\n",
       "\n",
       "    .dataframe tbody tr th {\n",
       "        vertical-align: top;\n",
       "    }\n",
       "\n",
       "    .dataframe thead th {\n",
       "        text-align: right;\n",
       "    }\n",
       "</style>\n",
       "<table border=\"1\" class=\"dataframe\">\n",
       "  <thead>\n",
       "    <tr style=\"text-align: right;\">\n",
       "      <th></th>\n",
       "      <th>Number_of_Vehicles</th>\n",
       "      <th>Number_of_Casualties</th>\n",
       "    </tr>\n",
       "  </thead>\n",
       "  <tbody>\n",
       "    <tr>\n",
       "      <th>Number_of_Vehicles</th>\n",
       "      <td>1.000000</td>\n",
       "      <td>0.228889</td>\n",
       "    </tr>\n",
       "    <tr>\n",
       "      <th>Number_of_Casualties</th>\n",
       "      <td>0.228889</td>\n",
       "      <td>1.000000</td>\n",
       "    </tr>\n",
       "  </tbody>\n",
       "</table>\n",
       "</div>"
      ],
      "text/plain": [
       "                      Number_of_Vehicles  Number_of_Casualties\n",
       "Number_of_Vehicles              1.000000              0.228889\n",
       "Number_of_Casualties            0.228889              1.000000"
      ]
     },
     "execution_count": 100,
     "metadata": {},
     "output_type": "execute_result"
    }
   ],
   "source": [
    "accident[['Number_of_Vehicles', 'Number_of_Casualties']].corr()"
   ]
  },
  {
   "cell_type": "markdown",
   "id": "607313d2-c5ea-4b28-81e1-1a075ed4cb06",
   "metadata": {},
   "source": [
    "<h3>Insight: There is a weak positive correlation (0.23) between vehicles involved and casualties, showing that more vehicles only slightly raise casualty numbers.</h3>"
   ]
  },
  {
   "cell_type": "markdown",
   "id": "2011418d-8715-48f3-98e3-d0143860bc8b",
   "metadata": {},
   "source": [
    "<h2>Question No.22</h2>\n",
    "<h3> What’s the maximum accident count in a single day?</h3>"
   ]
  },
  {
   "cell_type": "code",
   "execution_count": 110,
   "id": "c00902e5-7edc-4680-ade4-214e2e510bd6",
   "metadata": {},
   "outputs": [
    {
     "data": {
      "text/plain": [
       "Accident Date\n",
       "2019-01-01    335\n",
       "2019-01-02    370\n",
       "2019-01-03    397\n",
       "2019-01-04    405\n",
       "2019-01-05    445\n",
       "             ... \n",
       "2022-12-27    179\n",
       "2022-12-28    181\n",
       "2022-12-29    214\n",
       "2022-12-30    171\n",
       "2022-12-31    193\n",
       "Length: 1461, dtype: int64"
      ]
     },
     "execution_count": 110,
     "metadata": {},
     "output_type": "execute_result"
    }
   ],
   "source": [
    "accident.groupby('Accident Date').size()"
   ]
  },
  {
   "cell_type": "markdown",
   "id": "d6277570-fba0-4532-b4ae-e8c2d2ac3461",
   "metadata": {},
   "source": [
    "<h3>Insight: The busiest day recorded saw a maximum of 445 accidents in a single day.</h3>"
   ]
  },
  {
   "cell_type": "markdown",
   "id": "7df41627-8d13-4192-ad1a-06a718e692fe",
   "metadata": {},
   "source": [
    "<h2>Question No.23</h2>\n",
    "<h3> Show accident counts per weekday, sorted by day order.</h3>"
   ]
  },
  {
   "cell_type": "code",
   "execution_count": 114,
   "id": "21b1f5d1-3ae5-4c1e-bd8d-46b85e4502e3",
   "metadata": {},
   "outputs": [
    {
     "data": {
      "text/plain": [
       "Accident Date\n",
       "Friday        97900\n",
       "Monday        72680\n",
       "Saturday     107178\n",
       "Sunday        89302\n",
       "Thursday      99511\n",
       "Tuesday       94550\n",
       "Wednesday     99558\n",
       "Name: count, dtype: int64"
      ]
     },
     "execution_count": 114,
     "metadata": {},
     "output_type": "execute_result"
    }
   ],
   "source": [
    "accident['Accident Date'].dt.day_name().value_counts().sort_index()"
   ]
  },
  {
   "cell_type": "markdown",
   "id": "c68c12b2-a3b5-45a6-a8f6-301672ab3ee6",
   "metadata": {},
   "source": [
    "<h3>Insight: Accidents peak on Saturdays (107,178) and are lowest on Mondays (72,680), showing weekends have the highest risk.</h3>"
   ]
  },
  {
   "cell_type": "markdown",
   "id": "d2392d76-3934-412f-9b8b-e87b6de93d50",
   "metadata": {},
   "source": [
    "<h2>Question No.24</h2>\n",
    "<h3> For each month, find the vehicle type with the most accidents.</h3>"
   ]
  },
  {
   "cell_type": "code",
   "execution_count": 115,
   "id": "c6a162dc-6cc4-4fa8-b9fb-6a8eb29a21eb",
   "metadata": {},
   "outputs": [
    {
     "data": {
      "text/plain": [
       "Accident Date\n",
       "1      (1, Car)\n",
       "2      (2, Car)\n",
       "3      (3, Car)\n",
       "4      (4, Car)\n",
       "5      (5, Car)\n",
       "6      (6, Car)\n",
       "7      (7, Car)\n",
       "8      (8, Car)\n",
       "9      (9, Car)\n",
       "10    (10, Car)\n",
       "11    (11, Car)\n",
       "12    (12, Car)\n",
       "dtype: object"
      ]
     },
     "execution_count": 115,
     "metadata": {},
     "output_type": "execute_result"
    }
   ],
   "source": [
    "accident.groupby([accident['Accident Date'].dt.month, 'Vehicle_Type']).size().groupby(level=0).idxmax()"
   ]
  },
  {
   "cell_type": "markdown",
   "id": "f571535f-55d8-4450-b32b-a9a91eae01de",
   "metadata": {},
   "source": [
    "<h3>Insight: Across all months (January–December), cars consistently account for the most accidents, dominating every month of the year.</h3>"
   ]
  },
  {
   "cell_type": "markdown",
   "id": "c064472b-f4c1-4f32-853b-babb699afc23",
   "metadata": {},
   "source": [
    "<h2>Question No.25</h2>\n",
    "<h3>How many accidents in the dataset involved only cars?</h3>"
   ]
  },
  {
   "cell_type": "code",
   "execution_count": 118,
   "id": "d6b1b273-41a7-4fb9-b720-c594780bd31b",
   "metadata": {},
   "outputs": [
    {
     "data": {
      "text/plain": [
       "0          True\n",
       "1          True\n",
       "2         False\n",
       "3         False\n",
       "4         False\n",
       "          ...  \n",
       "660674     True\n",
       "660675     True\n",
       "660676     True\n",
       "660677    False\n",
       "660678     True\n",
       "Name: Vehicle_Type, Length: 660679, dtype: bool"
      ]
     },
     "execution_count": 118,
     "metadata": {},
     "output_type": "execute_result"
    }
   ],
   "source": [
    "(accident['Vehicle_Type'] == 'Car')"
   ]
  },
  {
   "cell_type": "code",
   "execution_count": 119,
   "id": "d210d1af-1d3b-499a-a1b7-ac9d87adccab",
   "metadata": {},
   "outputs": [
    {
     "data": {
      "text/plain": [
       "np.int64(497992)"
      ]
     },
     "execution_count": 119,
     "metadata": {},
     "output_type": "execute_result"
    }
   ],
   "source": [
    "(accident['Vehicle_Type'] == 'Car').sum()"
   ]
  },
  {
   "cell_type": "markdown",
   "id": "7b1593e3-b029-49a8-ae08-f5bfc5d22296",
   "metadata": {},
   "source": [
    "<h3>Insight: A total of 497,992 accidents in the dataset involved cars.</h3>"
   ]
  },
  {
   "cell_type": "code",
   "execution_count": null,
   "id": "14e607c9-aff9-4e14-a0bf-e355917ecd0b",
   "metadata": {},
   "outputs": [],
   "source": []
  }
 ],
 "metadata": {
  "kernelspec": {
   "display_name": "Python 3 (ipykernel)",
   "language": "python",
   "name": "python3"
  },
  "language_info": {
   "codemirror_mode": {
    "name": "ipython",
    "version": 3
   },
   "file_extension": ".py",
   "mimetype": "text/x-python",
   "name": "python",
   "nbconvert_exporter": "python",
   "pygments_lexer": "ipython3",
   "version": "3.13.5"
  }
 },
 "nbformat": 4,
 "nbformat_minor": 5
}
